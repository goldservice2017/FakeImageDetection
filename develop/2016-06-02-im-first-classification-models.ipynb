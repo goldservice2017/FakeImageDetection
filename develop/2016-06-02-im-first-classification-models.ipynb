{
 "cells": [
  {
   "cell_type": "code",
   "execution_count": 7,
   "metadata": {
    "collapsed": false
   },
   "outputs": [
    {
     "ename": "ImportError",
     "evalue": "No module named 'cPickle'",
     "output_type": "error",
     "traceback": [
      "\u001b[0;31m---------------------------------------------------------------------------\u001b[0m",
      "\u001b[0;31mImportError\u001b[0m                               Traceback (most recent call last)",
      "\u001b[0;32m<ipython-input-7-3b59b10c11e4>\u001b[0m in \u001b[0;36m<module>\u001b[0;34m()\u001b[0m\n\u001b[1;32m      3\u001b[0m \u001b[0;32mfrom\u001b[0m \u001b[0mlasagne\u001b[0m\u001b[0;34m.\u001b[0m\u001b[0mupdates\u001b[0m \u001b[0;32mimport\u001b[0m \u001b[0mnesterov_momentum\u001b[0m\u001b[0;34m\u001b[0m\u001b[0m\n\u001b[1;32m      4\u001b[0m \u001b[0;32mfrom\u001b[0m \u001b[0mmatplotlib\u001b[0m \u001b[0;32mimport\u001b[0m \u001b[0mpyplot\u001b[0m\u001b[0;34m\u001b[0m\u001b[0m\n\u001b[0;32m----> 5\u001b[0;31m \u001b[0;32mfrom\u001b[0m \u001b[0mnolearn\u001b[0m\u001b[0;34m.\u001b[0m\u001b[0mlasagne\u001b[0m \u001b[0;32mimport\u001b[0m \u001b[0mBatchIterator\u001b[0m\u001b[0;34m\u001b[0m\u001b[0m\n\u001b[0m\u001b[1;32m      6\u001b[0m \u001b[0;32mfrom\u001b[0m \u001b[0mnolearn\u001b[0m\u001b[0;34m.\u001b[0m\u001b[0mlasagne\u001b[0m \u001b[0;32mimport\u001b[0m \u001b[0mNeuralNet\u001b[0m\u001b[0;34m\u001b[0m\u001b[0m\n\u001b[1;32m      7\u001b[0m \u001b[0;32mfrom\u001b[0m \u001b[0mpandas\u001b[0m \u001b[0;32mimport\u001b[0m \u001b[0mDataFrame\u001b[0m\u001b[0;34m\u001b[0m\u001b[0m\n",
      "\u001b[0;32m/usr/local/lib/python3.5/site-packages/nolearn/lasagne.py\u001b[0m in \u001b[0;36m<module>\u001b[0;34m()\u001b[0m\n\u001b[1;32m      1\u001b[0m \u001b[0;32mfrom\u001b[0m \u001b[0m__future__\u001b[0m \u001b[0;32mimport\u001b[0m \u001b[0mabsolute_import\u001b[0m\u001b[0;34m\u001b[0m\u001b[0m\n\u001b[1;32m      2\u001b[0m \u001b[0;34m\u001b[0m\u001b[0m\n\u001b[0;32m----> 3\u001b[0;31m \u001b[0;32mimport\u001b[0m \u001b[0mcPickle\u001b[0m\u001b[0;34m\u001b[0m\u001b[0m\n\u001b[0m\u001b[1;32m      4\u001b[0m \u001b[0;32mimport\u001b[0m \u001b[0mitertools\u001b[0m\u001b[0;34m\u001b[0m\u001b[0m\n\u001b[1;32m      5\u001b[0m \u001b[0;32mimport\u001b[0m \u001b[0moperator\u001b[0m\u001b[0;34m\u001b[0m\u001b[0m\n",
      "\u001b[0;31mImportError\u001b[0m: No module named 'cPickle'"
     ]
    }
   ],
   "source": [
    "from imread import imread\n",
    "from lasagne import layers\n",
    "from lasagne.updates import nesterov_momentum\n",
    "from matplotlib import pyplot\n",
    "from nolearn.lasagne import BatchIterator\n",
    "from nolearn.lasagne import NeuralNet\n",
    "from pandas import DataFrame\n",
    "from pandas.io.parsers import read_csv\n",
    "from scipy import misc\n",
    "from skimage import data, io, filters\n",
    "from sklearn.ensemble import RandomForestClassifier\n",
    "from sklearn.grid_search import GridSearchCV\n",
    "from sklearn.utils import shuffle\n",
    "# import cPickle as pickle\n",
    "import _pickle as pickle\n",
    "import numpy as np\n",
    "import os\n",
    "import scipy\n",
    "import sys\n",
    "import theano\n",
    "import matplotlib\n",
    "# matplotlib.use('Agg')\n",
    "%matplotlib inline\n",
    "import matplotlib.pyplot as plt"
   ]
  },
  {
   "cell_type": "markdown",
   "metadata": {},
   "source": [
    "## Loading images"
   ]
  },
  {
   "cell_type": "code",
   "execution_count": 6,
   "metadata": {
    "collapsed": false
   },
   "outputs": [],
   "source": [
    "np.random.seed(0)"
   ]
  },
  {
   "cell_type": "code",
   "execution_count": 7,
   "metadata": {
    "collapsed": false
   },
   "outputs": [],
   "source": [
    "IMAGE_SHAPE = (64, 64)\n",
    "IMAGE_ARRAY_SIZE = IMAGE_SHAPE[0] * IMAGE_SHAPE[1]\n",
    "\n",
    "def image_files_in_folder(folder):\n",
    "    all_files = os.listdir(folder)\n",
    "    return [file for file in all_files if file.endswith('.jpg')]\n",
    "\n",
    "def read_image(path):\n",
    "    file = imread(path, as_grey=True)\n",
    "    file = scipy.misc.imresize(file, IMAGE_SHAPE). \\\n",
    "                      reshape(IMAGE_ARRAY_SIZE)\n",
    "    return file\n",
    "\n",
    "def load_images(folder, n_files=None):\n",
    "    image_files = image_files_in_folder(folder)\n",
    "    if n_files:\n",
    "        image_files = np.random.choice(image_files_in_folder(folder), n_files)\n",
    "    images = np.empty((len(image_files), IMAGE_ARRAY_SIZE),\n",
    "                      dtype=np.float32)\n",
    "\n",
    "    for i, file_name in enumerate(image_files):\n",
    "        try:\n",
    "            images[i] = read_image('/'.join([folder, file_name]))\n",
    "        except RuntimeError:\n",
    "            print(i, file_name)\n",
    "        print(i, images[i].min(), images[i].max())\n",
    "    \n",
    "    return images"
   ]
  },
  {
   "cell_type": "code",
   "execution_count": 1,
   "metadata": {
    "collapsed": false,
    "scrolled": true
   },
   "outputs": [
    {
     "ename": "NameError",
     "evalue": "name 'load_images' is not defined",
     "output_type": "error",
     "traceback": [
      "\u001b[0;31m---------------------------------------------------------------------------\u001b[0m",
      "\u001b[0;31mNameError\u001b[0m                                 Traceback (most recent call last)",
      "\u001b[0;32m<ipython-input-1-68428f6afcff>\u001b[0m in \u001b[0;36m<module>\u001b[0;34m()\u001b[0m\n\u001b[1;32m      1\u001b[0m \u001b[0;31m# psed_images = load_images('data/psed-reddit') # 68% with RandomForestClassifier\u001b[0m\u001b[0;34m\u001b[0m\u001b[0;34m\u001b[0m\u001b[0m\n\u001b[0;32m----> 2\u001b[0;31m \u001b[0mpsed_images\u001b[0m \u001b[0;34m=\u001b[0m \u001b[0mload_images\u001b[0m\u001b[0;34m(\u001b[0m\u001b[0;34m'data/psed-by-email'\u001b[0m\u001b[0;34m)\u001b[0m\u001b[0;34m\u001b[0m\u001b[0m\n\u001b[0m\u001b[1;32m      3\u001b[0m \u001b[0;31m# plt.imshow(psed_images[0].reshape(64, 64), cmap=plt.get_cmap('gray'))\u001b[0m\u001b[0;34m\u001b[0m\u001b[0;34m\u001b[0m\u001b[0m\n\u001b[1;32m      4\u001b[0m \u001b[0;34m\u001b[0m\u001b[0m\n\u001b[1;32m      5\u001b[0m \u001b[0mnonpsed_images\u001b[0m \u001b[0;34m=\u001b[0m \u001b[0mload_images\u001b[0m\u001b[0;34m(\u001b[0m\u001b[0;34m'data/non-psed'\u001b[0m\u001b[0;34m)\u001b[0m\u001b[0;34m\u001b[0m\u001b[0m\n",
      "\u001b[0;31mNameError\u001b[0m: name 'load_images' is not defined"
     ]
    }
   ],
   "source": [
    "# psed_images = load_images('../data/psed-reddit') # 68% with RandomForestClassifier\n",
    "psed_images = load_images('../data/psed-by-email')\n",
    "# plt.imshow(psed_images[0].reshape(64, 64), cmap=plt.get_cmap('gray'))\n",
    "\n",
    "nonpsed_images = load_images('../data/non-psed')\n",
    "# plt.imshow(nonpsed_images[1].reshape(64, 64), cmap=plt.get_cmap('gray'))"
   ]
  },
  {
   "cell_type": "code",
   "execution_count": 164,
   "metadata": {
    "collapsed": false
   },
   "outputs": [
    {
     "ename": "NameError",
     "evalue": "name 'psed_images' is not defined",
     "output_type": "error",
     "traceback": [
      "\u001b[0;31m---------------------------------------------------------------------------\u001b[0m",
      "\u001b[0;31mNameError\u001b[0m                                 Traceback (most recent call last)",
      "\u001b[0;32m<ipython-input-164-67ad727a2b69>\u001b[0m in \u001b[0;36m<module>\u001b[0;34m()\u001b[0m\n\u001b[0;32m----> 1\u001b[0;31m \u001b[0mprint\u001b[0m\u001b[0;34m(\u001b[0m\u001b[0;34m'psed_images'\u001b[0m\u001b[0;34m,\u001b[0m \u001b[0mpsed_images\u001b[0m\u001b[0;34m.\u001b[0m\u001b[0mmin\u001b[0m\u001b[0;34m(\u001b[0m\u001b[0;34m)\u001b[0m\u001b[0;34m,\u001b[0m \u001b[0mpsed_images\u001b[0m\u001b[0;34m.\u001b[0m\u001b[0mmax\u001b[0m\u001b[0;34m(\u001b[0m\u001b[0;34m)\u001b[0m\u001b[0;34m)\u001b[0m\u001b[0;34m\u001b[0m\u001b[0m\n\u001b[0m\u001b[1;32m      2\u001b[0m \u001b[0mprint\u001b[0m\u001b[0;34m(\u001b[0m\u001b[0;34m'nonpsed_images'\u001b[0m\u001b[0;34m,\u001b[0m \u001b[0mnonpsed_images\u001b[0m\u001b[0;34m.\u001b[0m\u001b[0mmin\u001b[0m\u001b[0;34m(\u001b[0m\u001b[0;34m)\u001b[0m\u001b[0;34m,\u001b[0m \u001b[0mnonpsed_images\u001b[0m\u001b[0;34m.\u001b[0m\u001b[0mmax\u001b[0m\u001b[0;34m(\u001b[0m\u001b[0;34m)\u001b[0m\u001b[0;34m)\u001b[0m\u001b[0;34m\u001b[0m\u001b[0m\n",
      "\u001b[0;31mNameError\u001b[0m: name 'psed_images' is not defined"
     ]
    }
   ],
   "source": [
    "print('psed_images', psed_images.min(), psed_images.max())\n",
    "print('nonpsed_images', nonpsed_images.min(), nonpsed_images.max())"
   ]
  },
  {
   "cell_type": "code",
   "execution_count": 143,
   "metadata": {
    "collapsed": false
   },
   "outputs": [
    {
     "name": "stdout",
     "output_type": "stream",
     "text": [
      "(700, 4096) (700, 4096)\n",
      "(1400, 4096) (1400,) float32 int32\n",
      "psed_images 0.0 255.0\n",
      "nonpsed_images 0.0 255.0\n",
      "X 0.0 255.0\n"
     ]
    }
   ],
   "source": [
    "print(psed_images.shape, nonpsed_images.shape)\n",
    "\n",
    "X = np.append(psed_images, nonpsed_images, axis=0)\n",
    "\n",
    "y = np.append(np.repeat(np.array(1, dtype=np.int32), len(psed_images)),\n",
    "              np.repeat(np.array(0, dtype=np.int32), len(nonpsed_images)))\n",
    "print(X.shape, y.shape, X.dtype, y.dtype)\n",
    "\n",
    "print('psed_images', psed_images.min(), psed_images.max())\n",
    "print('nonpsed_images', nonpsed_images.min(), nonpsed_images.max())\n",
    "print('X', X.min(), X.max())"
   ]
  },
  {
   "cell_type": "markdown",
   "metadata": {},
   "source": [
    "## Models"
   ]
  },
  {
   "cell_type": "code",
   "execution_count": 162,
   "metadata": {
    "collapsed": true
   },
   "outputs": [],
   "source": [
    "np.savez('../data/dataset', X=X, y=y)"
   ]
  },
  {
   "cell_type": "code",
   "execution_count": 9,
   "metadata": {
    "collapsed": false
   },
   "outputs": [],
   "source": [
    "dataset = np.load('../data/dataset.npz')\n",
    "X, y = dataset['X'], dataset['y']"
   ]
  },
  {
   "cell_type": "code",
   "execution_count": 10,
   "metadata": {
    "collapsed": false
   },
   "outputs": [],
   "source": [
    "# import math\n",
    "\n",
    "# i = np.append(np.arange(0, 700), [699 + np.random.random_integers(0, 700, math.floor((y == 0).sum() * .66))])\n",
    "# X = X[i]\n",
    "# y = y[i]"
   ]
  },
  {
   "cell_type": "code",
   "execution_count": 11,
   "metadata": {
    "collapsed": false
   },
   "outputs": [],
   "source": [
    "from sklearn import cross_validation\n",
    "\n",
    "X_train, X_test, y_train, y_test = cross_validation.train_test_split(\n",
    "    X, y, random_state=0, train_size=.8)"
   ]
  },
  {
   "cell_type": "code",
   "execution_count": 12,
   "metadata": {
    "collapsed": true
   },
   "outputs": [],
   "source": [
    "from sklearn.metrics import roc_curve, roc_auc_score, auc\n",
    "\n",
    "def plot_roc_curve(clf):\n",
    "    false_positive_rate, true_positive_rate, thresholds = roc_curve(y_test, clf.predict(X_test))\n",
    "    roc_auc = auc(false_positive_rate, true_positive_rate)\n",
    "    plt.title('Receiver Operating Characteristic')\n",
    "    plt.plot(false_positive_rate,\n",
    "             true_positive_rate,\n",
    "             'blue',\n",
    "             label='AUC = %0.2f' % roc_auc)\n",
    "    plt.legend(loc='lower right')\n",
    "    plt.plot([0,1], [0,1], 'r--')\n",
    "    plt.ylabel('True Positive Rate')\n",
    "    plt.xlabel('False Positive Rate')\n",
    "    plt.show()\n",
    "\n",
    "    print(false_positive_rate, true_positive_rate)"
   ]
  },
  {
   "cell_type": "markdown",
   "metadata": {},
   "source": [
    "### RandomForestClassifier"
   ]
  },
  {
   "cell_type": "code",
   "execution_count": 134,
   "metadata": {
    "collapsed": false
   },
   "outputs": [
    {
     "name": "stdout",
     "output_type": "stream",
     "text": [
      "RandomForestClassifier(bootstrap=True, class_weight=None, criterion='gini',\n",
      "            max_depth=None, max_features='auto', max_leaf_nodes=None,\n",
      "            min_samples_leaf=1, min_samples_split=2,\n",
      "            min_weight_fraction_leaf=0.0, n_estimators=100, n_jobs=8,\n",
      "            oob_score=False, random_state=0, verbose=0, warm_start=False)\n"
     ]
    },
    {
     "data": {
      "text/plain": [
       "0.75357142857142856"
      ]
     },
     "execution_count": 134,
     "metadata": {},
     "output_type": "execute_result"
    }
   ],
   "source": [
    "parameters = [{'n_estimators' : [3, 5, 10, 20, 30, 100, 500],\n",
    "               'max_depth': [None, 10, 1e2, 1e3, 1e4, 1e5]}]\n",
    "random_forest = GridSearchCV(RandomForestClassifier(n_jobs=8, random_state=0),\n",
    "                             param_grid=parameters)\n",
    "random_forest.fit(X_train, y_train)\n",
    "print(random_forest.best_estimator_)\n",
    "\n",
    "random_forest.score(X_test, y_test)"
   ]
  },
  {
   "cell_type": "code",
   "execution_count": 17,
   "metadata": {
    "collapsed": false
   },
   "outputs": [
    {
     "data": {
      "text/plain": [
       "array([1, 0, 1, 0, 0, 0, 0, 1, 1, 1, 1, 0], dtype=int32)"
      ]
     },
     "execution_count": 17,
     "metadata": {},
     "output_type": "execute_result"
    }
   ],
   "source": [
    "paths = [\n",
    "    '/Users/irio/Desktop/funny_photoshopped_images_01.jpg',\n",
    "    '/Users/irio/Desktop/plane-nikon-640x0.jpg',\n",
    "    \n",
    "    '/Users/irio/Downloads/IMG_2515.JPG',\n",
    "    '/Users/irio/Downloads/IMG_2525 (1).JPG',\n",
    "    '/Users/irio/Dropbox/Images/Praça do Japão/PHOT0009.JPG.jpg',\n",
    "    '/Users/irio/Desktop/WP_20140913_003.jpg',\n",
    "    '/Users/irio/Desktop/WP_20140913_004.jpg',\n",
    "    '/Users/irio/Downloads/Photos/IMG_2595.jpg',\n",
    "    '/Users/irio/Downloads/Photos/IMG_2596.jpg',\n",
    "    '/Users/irio/Downloads/Photos/IMG_2597.jpg',\n",
    "    '/Users/irio/Downloads/Photos/IMG_2598.jpg',\n",
    "    '/Users/irio/Downloads/Photos/IMG_2603.jpg',\n",
    "]\n",
    "random_forest.predict(list(map(read_image, paths)))"
   ]
  },
  {
   "cell_type": "code",
   "execution_count": 18,
   "metadata": {
    "collapsed": false
   },
   "outputs": [
    {
     "data": {
      "image/png": "[encoded data removed]",
      "text/plain": [
       "<matplotlib.figure.Figure at 0x12d22ebe0>"
      ]
     },
     "metadata": {},
     "output_type": "display_data"
    },
    {
     "name": "stdout",
     "output_type": "stream",
     "text": [
      "[ 0.          0.27407407  1.        ] [ 0.          0.77931034  1.        ]\n"
     ]
    }
   ],
   "source": [
    "plot_roc_curve(random_forest)"
   ]
  },
  {
   "cell_type": "markdown",
   "metadata": {},
   "source": [
    "### XGBoost"
   ]
  },
  {
   "cell_type": "code",
   "execution_count": 11,
   "metadata": {
    "collapsed": false
   },
   "outputs": [
    {
     "name": "stdout",
     "output_type": "stream",
     "text": [
      "Fitting 3 folds for each of 1 candidates, totalling 3 fits\n"
     ]
    },
    {
     "name": "stderr",
     "output_type": "stream",
     "text": [
      "[Parallel(n_jobs=8)]: Done   3 out of   3 | elapsed:   12.6s finished\n"
     ]
    },
    {
     "name": "stdout",
     "output_type": "stream",
     "text": [
      "XGBClassifier(base_score=0.5, colsample_bylevel=1, colsample_bytree=1,\n",
      "       gamma=0, learning_rate=0.1, max_delta_step=0, max_depth=3,\n",
      "       min_child_weight=1, missing=None, n_estimators=100, nthread=-1,\n",
      "       objective='binary:logistic', reg_alpha=0, reg_lambda=1,\n",
      "       scale_pos_weight=1, seed=0, silent=True, subsample=1)\n"
     ]
    }
   ],
   "source": [
    "optimized_GBM = GridSearchCV(xgb.XGBClassifier(seed=0), {}, n_jobs=8, verbose=True)\n",
    "optimized_GBM.fit(X_train, y_train)\n",
    "print(optimized_GBM.best_estimator_)"
   ]
  },
  {
   "cell_type": "code",
   "execution_count": 16,
   "metadata": {
    "collapsed": false
   },
   "outputs": [
    {
     "name": "stdout",
     "output_type": "stream",
     "text": [
      "0.711428571429\n"
     ]
    },
    {
     "data": {
      "image/png": "[encoded data removed]",
      "text/plain": [
       "<matplotlib.figure.Figure at 0x1364e9940>"
      ]
     },
     "metadata": {},
     "output_type": "display_data"
    },
    {
     "name": "stdout",
     "output_type": "stream",
     "text": [
      "[ 0.          0.27840909  1.        ] [ 0.          0.70114943  1.        ]\n"
     ]
    },
    {
     "data": {
      "text/plain": [
       "array([1, 0, 0, 0, 0, 0, 0, 1, 1, 1, 1, 0], dtype=int32)"
      ]
     },
     "execution_count": 16,
     "metadata": {},
     "output_type": "execute_result"
    }
   ],
   "source": [
    "print(optimized_GBM.score(X_test, y_test))\n",
    "\n",
    "plot_roc_curve(optimized_GBM)\n",
    "\n",
    "paths = [\n",
    "    '/Users/irio/Desktop/funny_photoshopped_images_01.jpg',\n",
    "    '/Users/irio/Desktop/plane-nikon-640x0.jpg',\n",
    "    \n",
    "    '/Users/irio/Downloads/IMG_2515.JPG',\n",
    "    '/Users/irio/Downloads/IMG_2525 (1).JPG',\n",
    "    '/Users/irio/Dropbox/Images/Praça do Japão/PHOT0009.JPG.jpg',\n",
    "    '/Users/irio/Desktop/WP_20140913_003.jpg',\n",
    "    '/Users/irio/Desktop/WP_20140913_004.jpg',\n",
    "    '/Users/irio/Downloads/Photos/IMG_2595.jpg',\n",
    "    '/Users/irio/Downloads/Photos/IMG_2596.jpg',\n",
    "    '/Users/irio/Downloads/Photos/IMG_2597.jpg',\n",
    "    '/Users/irio/Downloads/Photos/IMG_2598.jpg',\n",
    "    '/Users/irio/Downloads/Photos/IMG_2603.jpg',\n",
    "]\n",
    "\n",
    "optimized_GBM.predict(list(map(read_image, paths)))"
   ]
  },
  {
   "cell_type": "code",
   "execution_count": 22,
   "metadata": {
    "collapsed": false,
    "scrolled": true
   },
   "outputs": [
    {
     "name": "stdout",
     "output_type": "stream",
     "text": [
      "XGBClassifier(base_score=0.5, colsample_bylevel=1, colsample_bytree=0.8,\n",
      "       gamma=0, learning_rate=0.1, max_delta_step=0, max_depth=7,\n",
      "       min_child_weight=5, missing=None, n_estimators=1000, nthread=-1,\n",
      "       objective='binary:logistic', reg_alpha=0, reg_lambda=1,\n",
      "       scale_pos_weight=1, seed=0, silent=True, subsample=0.8)\n"
     ]
    }
   ],
   "source": [
    "import xgboost as xgb\n",
    "\n",
    "cv_params = {'max_depth': [3, 5, 7],\n",
    "             'min_child_weight': [1, 3, 5]}\n",
    "ind_params = {'learning_rate': 0.1,\n",
    "              'n_estimators': 1000,\n",
    "              'seed': 0,\n",
    "              'subsample': 0.8,\n",
    "              'colsample_bytree': 0.8,\n",
    "              'objective': 'binary:logistic'}\n",
    "optimized_GBM = GridSearchCV(xgb.XGBClassifier(**ind_params),\n",
    "                             cv_params,\n",
    "                             scoring='accuracy', cv=5, n_jobs=8)\n",
    "# optimized_GBM = GridSearchCV(xgb.XGBClassifier(**ind_params),\n",
    "#                              {},\n",
    "#                              scoring='accuracy', cv=5, n_jobs=8)\n",
    "optimized_GBM.fit(X_train, y_train)\n",
    "print(optimized_GBM.best_estimator_)"
   ]
  },
  {
   "cell_type": "code",
   "execution_count": null,
   "metadata": {
    "collapsed": false
   },
   "outputs": [],
   "source": [
    "print(optimized_GBM.score(X_test, y_test))\n",
    "\n",
    "plot_roc_curve(optimized_GBM)\n",
    "\n",
    "paths = [\n",
    "    '/Users/irio/Desktop/funny_photoshopped_images_01.jpg',\n",
    "    '/Users/irio/Desktop/plane-nikon-640x0.jpg',\n",
    "    \n",
    "    '/Users/irio/Downloads/IMG_2515.JPG',\n",
    "    '/Users/irio/Downloads/IMG_2525 (1).JPG',\n",
    "    '/Users/irio/Dropbox/Images/Praça do Japão/PHOT0009.JPG.jpg',\n",
    "    '/Users/irio/Desktop/WP_20140913_003.jpg',\n",
    "    '/Users/irio/Desktop/WP_20140913_004.jpg',\n",
    "    '/Users/irio/Downloads/Photos/IMG_2595.jpg',\n",
    "    '/Users/irio/Downloads/Photos/IMG_2596.jpg',\n",
    "    '/Users/irio/Downloads/Photos/IMG_2597.jpg',\n",
    "    '/Users/irio/Downloads/Photos/IMG_2598.jpg',\n",
    "    '/Users/irio/Downloads/Photos/IMG_2603.jpg',\n",
    "]\n",
    "\n",
    "optimized_GBM.predict(list(map(read_image, paths)))"
   ]
  },
  {
   "cell_type": "markdown",
   "metadata": {},
   "source": [
    "### OneClassSVM"
   ]
  },
  {
   "cell_type": "code",
   "execution_count": 29,
   "metadata": {
    "collapsed": false
   },
   "outputs": [
    {
     "data": {
      "text/plain": [
       "OneClassSVM(cache_size=200, coef0=0.0, degree=3, gamma='auto', kernel='rbf',\n",
       "      max_iter=-1, nu=0.5, random_state=None, shrinking=True, tol=0.001,\n",
       "      verbose=False)"
      ]
     },
     "execution_count": 29,
     "metadata": {},
     "output_type": "execute_result"
    }
   ],
   "source": [
    "from sklearn.svm import OneClassSVM\n",
    "\n",
    "one_class_svm = OneClassSVM()\n",
    "one_class_svm.fit(X_train, y=y_train)"
   ]
  },
  {
   "cell_type": "code",
   "execution_count": 33,
   "metadata": {
    "collapsed": false
   },
   "outputs": [
    {
     "data": {
      "text/plain": [
       "1050"
      ]
     },
     "execution_count": 33,
     "metadata": {},
     "output_type": "execute_result"
    }
   ],
   "source": [
    "len(X_train)"
   ]
  },
  {
   "cell_type": "code",
   "execution_count": 49,
   "metadata": {
    "collapsed": true
   },
   "outputs": [],
   "source": [
    "r = one_class_svm.predict(X_test)"
   ]
  },
  {
   "cell_type": "code",
   "execution_count": 50,
   "metadata": {
    "collapsed": false
   },
   "outputs": [
    {
     "data": {
      "text/plain": [
       "0.49714285714285716"
      ]
     },
     "execution_count": 50,
     "metadata": {},
     "output_type": "execute_result"
    }
   ],
   "source": [
    "minus_y = y_test.copy()\n",
    "minus_y[minus_y == 1] = -1\n",
    "(r == minus_y).sum() / float(len(r))"
   ]
  },
  {
   "cell_type": "markdown",
   "metadata": {},
   "source": [
    "### SVM SVC"
   ]
  },
  {
   "cell_type": "code",
   "execution_count": 66,
   "metadata": {
    "collapsed": false
   },
   "outputs": [
    {
     "name": "stdout",
     "output_type": "stream",
     "text": [
      "SVC(C=1.0, cache_size=200, class_weight=None, coef0=0.0,\n",
      "  decision_function_shape=None, degree=3, gamma=0.001, kernel='rbf',\n",
      "  max_iter=-1, probability=False, random_state=0, shrinking=True,\n",
      "  tol=0.001, verbose=False)\n"
     ]
    }
   ],
   "source": [
    "from sklearn.svm import SVC\n",
    "\n",
    "parameters = [{'kernel': ['rbf'],\n",
    "               'gamma': np.logspace(-3, 3, 7),\n",
    "               'C': np.logspace(-3, 3, 7),\n",
    "               'gamma': [0.001]}]\n",
    "svc = GridSearchCV(SVC(random_state=0),\n",
    "                   param_grid=parameters)\n",
    "svc.fit(X_train, y_train)\n",
    "print(svc.best_estimator_)"
   ]
  },
  {
   "cell_type": "code",
   "execution_count": 67,
   "metadata": {
    "collapsed": false
   },
   "outputs": [
    {
     "name": "stdout",
     "output_type": "stream",
     "text": [
      "0.502857142857\n"
     ]
    },
    {
     "data": {
      "image/png": "[encoded data removed]",
      "text/plain": [
       "<matplotlib.figure.Figure at 0x12b74b390>"
      ]
     },
     "metadata": {},
     "output_type": "display_data"
    },
    {
     "name": "stdout",
     "output_type": "stream",
     "text": [
      "[ 0.          0.98863636  1.        ] [ 0.  1.  1.]\n"
     ]
    },
    {
     "data": {
      "text/plain": [
       "array([1, 1, 1, 1, 1, 1, 1, 1, 1, 1, 1, 1], dtype=int32)"
      ]
     },
     "execution_count": 67,
     "metadata": {},
     "output_type": "execute_result"
    }
   ],
   "source": [
    "print(svc.score(X_test, y_test))\n",
    "\n",
    "plot_roc_curve(svc)\n",
    "\n",
    "paths = [\n",
    "    '/Users/irio/Desktop/funny_photoshopped_images_01.jpg',\n",
    "    '/Users/irio/Desktop/plane-nikon-640x0.jpg',\n",
    "    \n",
    "    '/Users/irio/Downloads/IMG_2515.JPG',\n",
    "    '/Users/irio/Downloads/IMG_2525 (1).JPG',\n",
    "    '/Users/irio/Dropbox/Images/Praça do Japão/PHOT0009.JPG.jpg',\n",
    "    '/Users/irio/Desktop/WP_20140913_003.jpg',\n",
    "    '/Users/irio/Desktop/WP_20140913_004.jpg',\n",
    "    '/Users/irio/Downloads/Photos/IMG_2595.jpg',\n",
    "    '/Users/irio/Downloads/Photos/IMG_2596.jpg',\n",
    "    '/Users/irio/Downloads/Photos/IMG_2597.jpg',\n",
    "    '/Users/irio/Downloads/Photos/IMG_2598.jpg',\n",
    "    '/Users/irio/Downloads/Photos/IMG_2603.jpg',\n",
    "]\n",
    "\n",
    "svc.predict(list(map(read_image, paths)))"
   ]
  },
  {
   "cell_type": "markdown",
   "metadata": {},
   "source": [
    "### Neural Network"
   ]
  },
  {
   "cell_type": "code",
   "execution_count": 149,
   "metadata": {
    "collapsed": false,
    "scrolled": true
   },
   "outputs": [
    {
     "name": "stderr",
     "output_type": "stream",
     "text": [
      "WARNING (theano.sandbox.cuda.opt): Optimization Warning: Got the following error, but you can ignore it. This could cause less GpuElemwise fused together.\n",
      "(4, -1)\n",
      "ERROR (theano.gof.opt): Optimization failure due to: constant_folding\n",
      "ERROR (theano.gof.opt): node: GpuFromHost(TensorConstant{(1,) of 0.9})\n",
      "ERROR (theano.gof.opt): TRACEBACK:\n",
      "ERROR (theano.gof.opt): Traceback (most recent call last):\n",
      "  File \"/Users/irio/anaconda2/lib/python3.4/site-packages/theano/gof/opt.py\", line 1772, in process_node\n",
      "    replacements = lopt.transform(node)\n",
      "  File \"/Users/irio/anaconda2/lib/python3.4/site-packages/theano/tensor/opt.py\", line 5827, in constant_folding\n",
      "    required = thunk()\n",
      "  File \"/Users/irio/anaconda2/lib/python3.4/site-packages/theano/gof/op.py\", line 883, in rval\n",
      "    fill_storage()\n",
      "  File \"/Users/irio/anaconda2/lib/python3.4/site-packages/theano/gof/cc.py\", line 1707, in __call__\n",
      "    reraise(exc_type, exc_value, exc_trace)\n",
      "  File \"/Users/irio/anaconda2/lib/python3.4/site-packages/six-1.10.0-py3.4.egg/six.py\", line 686, in reraise\n",
      "    raise value\n",
      "MemoryError: Error allocating 4 bytes of device memory (unspecified launch failure).\n",
      "\n",
      "ERROR (theano.gof.opt): Optimization failure due to: constant_folding\n",
      "ERROR (theano.gof.opt): node: GpuFromHost(TensorConstant{(1, 1) of 0.9})\n",
      "ERROR (theano.gof.opt): TRACEBACK:\n",
      "ERROR (theano.gof.opt): Traceback (most recent call last):\n",
      "  File \"/Users/irio/anaconda2/lib/python3.4/site-packages/theano/gof/opt.py\", line 1772, in process_node\n",
      "    replacements = lopt.transform(node)\n",
      "  File \"/Users/irio/anaconda2/lib/python3.4/site-packages/theano/tensor/opt.py\", line 5827, in constant_folding\n",
      "    required = thunk()\n",
      "  File \"/Users/irio/anaconda2/lib/python3.4/site-packages/theano/gof/op.py\", line 883, in rval\n",
      "    fill_storage()\n",
      "  File \"/Users/irio/anaconda2/lib/python3.4/site-packages/theano/gof/cc.py\", line 1707, in __call__\n",
      "    reraise(exc_type, exc_value, exc_trace)\n",
      "  File \"/Users/irio/anaconda2/lib/python3.4/site-packages/six-1.10.0-py3.4.egg/six.py\", line 686, in reraise\n",
      "    raise value\n",
      "MemoryError: Error allocating 4 bytes of device memory (unspecified launch failure).\n",
      "\n",
      "ERROR (theano.gof.opt): Optimization failure due to: constant_folding\n",
      "ERROR (theano.gof.opt): node: GpuFromHost(TensorConstant{(1,) of 0.9})\n",
      "ERROR (theano.gof.opt): TRACEBACK:\n",
      "ERROR (theano.gof.opt): Traceback (most recent call last):\n",
      "  File \"/Users/irio/anaconda2/lib/python3.4/site-packages/theano/gof/opt.py\", line 1772, in process_node\n",
      "    replacements = lopt.transform(node)\n",
      "  File \"/Users/irio/anaconda2/lib/python3.4/site-packages/theano/tensor/opt.py\", line 5827, in constant_folding\n",
      "    required = thunk()\n",
      "  File \"/Users/irio/anaconda2/lib/python3.4/site-packages/theano/gof/op.py\", line 883, in rval\n",
      "    fill_storage()\n",
      "  File \"/Users/irio/anaconda2/lib/python3.4/site-packages/theano/gof/cc.py\", line 1707, in __call__\n",
      "    reraise(exc_type, exc_value, exc_trace)\n",
      "  File \"/Users/irio/anaconda2/lib/python3.4/site-packages/six-1.10.0-py3.4.egg/six.py\", line 686, in reraise\n",
      "    raise value\n",
      "MemoryError: Error allocating 4 bytes of device memory (unspecified launch failure).\n",
      "\n",
      "ERROR (theano.gof.opt): Optimization failure due to: constant_folding\n",
      "ERROR (theano.gof.opt): node: GpuFromHost(TensorConstant{(1, 1) of 0.9})\n",
      "ERROR (theano.gof.opt): TRACEBACK:\n",
      "ERROR (theano.gof.opt): Traceback (most recent call last):\n",
      "  File \"/Users/irio/anaconda2/lib/python3.4/site-packages/theano/gof/opt.py\", line 1772, in process_node\n",
      "    replacements = lopt.transform(node)\n",
      "  File \"/Users/irio/anaconda2/lib/python3.4/site-packages/theano/tensor/opt.py\", line 5827, in constant_folding\n",
      "    required = thunk()\n",
      "  File \"/Users/irio/anaconda2/lib/python3.4/site-packages/theano/gof/op.py\", line 883, in rval\n",
      "    fill_storage()\n",
      "  File \"/Users/irio/anaconda2/lib/python3.4/site-packages/theano/gof/cc.py\", line 1707, in __call__\n",
      "    reraise(exc_type, exc_value, exc_trace)\n",
      "  File \"/Users/irio/anaconda2/lib/python3.4/site-packages/six-1.10.0-py3.4.egg/six.py\", line 686, in reraise\n",
      "    raise value\n",
      "MemoryError: Error allocating 4 bytes of device memory (unspecified launch failure).\n",
      "\n",
      "ERROR (theano.gof.opt): Optimization failure due to: constant_folding\n",
      "ERROR (theano.gof.opt): node: GpuFromHost(TensorConstant{(1, 1) of 0.9})\n",
      "ERROR (theano.gof.opt): TRACEBACK:\n",
      "ERROR (theano.gof.opt): Traceback (most recent call last):\n",
      "  File \"/Users/irio/anaconda2/lib/python3.4/site-packages/theano/gof/opt.py\", line 1772, in process_node\n",
      "    replacements = lopt.transform(node)\n",
      "  File \"/Users/irio/anaconda2/lib/python3.4/site-packages/theano/tensor/opt.py\", line 5827, in constant_folding\n",
      "    required = thunk()\n",
      "  File \"/Users/irio/anaconda2/lib/python3.4/site-packages/theano/gof/op.py\", line 883, in rval\n",
      "    fill_storage()\n",
      "  File \"/Users/irio/anaconda2/lib/python3.4/site-packages/theano/gof/cc.py\", line 1707, in __call__\n",
      "    reraise(exc_type, exc_value, exc_trace)\n",
      "  File \"/Users/irio/anaconda2/lib/python3.4/site-packages/six-1.10.0-py3.4.egg/six.py\", line 686, in reraise\n",
      "    raise value\n",
      "MemoryError: Error allocating 4 bytes of device memory (unspecified launch failure).\n",
      "\n",
      "ERROR (theano.gof.opt): Optimization failure due to: constant_folding\n",
      "ERROR (theano.gof.opt): node: GpuFromHost(TensorConstant{(1,) of 0.9})\n",
      "ERROR (theano.gof.opt): TRACEBACK:\n",
      "ERROR (theano.gof.opt): Traceback (most recent call last):\n",
      "  File \"/Users/irio/anaconda2/lib/python3.4/site-packages/theano/gof/opt.py\", line 1772, in process_node\n",
      "    replacements = lopt.transform(node)\n",
      "  File \"/Users/irio/anaconda2/lib/python3.4/site-packages/theano/tensor/opt.py\", line 5827, in constant_folding\n",
      "    required = thunk()\n",
      "  File \"/Users/irio/anaconda2/lib/python3.4/site-packages/theano/gof/op.py\", line 883, in rval\n",
      "    fill_storage()\n",
      "  File \"/Users/irio/anaconda2/lib/python3.4/site-packages/theano/gof/cc.py\", line 1707, in __call__\n",
      "    reraise(exc_type, exc_value, exc_trace)\n",
      "  File \"/Users/irio/anaconda2/lib/python3.4/site-packages/six-1.10.0-py3.4.egg/six.py\", line 686, in reraise\n",
      "    raise value\n",
      "MemoryError: Error allocating 4 bytes of device memory (unspecified launch failure).\n",
      "\n",
      "ERROR (theano.gof.opt): Optimization failure due to: constant_folding\n",
      "ERROR (theano.gof.opt): node: GpuFromHost(TensorConstant{(1, 1) of 0.9})\n",
      "ERROR (theano.gof.opt): TRACEBACK:\n",
      "ERROR (theano.gof.opt): Traceback (most recent call last):\n",
      "  File \"/Users/irio/anaconda2/lib/python3.4/site-packages/theano/gof/opt.py\", line 1772, in process_node\n",
      "    replacements = lopt.transform(node)\n",
      "  File \"/Users/irio/anaconda2/lib/python3.4/site-packages/theano/tensor/opt.py\", line 5827, in constant_folding\n",
      "    required = thunk()\n",
      "  File \"/Users/irio/anaconda2/lib/python3.4/site-packages/theano/gof/op.py\", line 883, in rval\n",
      "    fill_storage()\n",
      "  File \"/Users/irio/anaconda2/lib/python3.4/site-packages/theano/gof/cc.py\", line 1707, in __call__\n",
      "    reraise(exc_type, exc_value, exc_trace)\n",
      "  File \"/Users/irio/anaconda2/lib/python3.4/site-packages/six-1.10.0-py3.4.egg/six.py\", line 686, in reraise\n",
      "    raise value\n",
      "MemoryError: Error allocating 4 bytes of device memory (unspecified launch failure).\n",
      "\n",
      "ERROR (theano.gof.opt): Optimization failure due to: constant_folding\n",
      "ERROR (theano.gof.opt): node: GpuFromHost(TensorConstant{(1,) of 0.9})\n",
      "ERROR (theano.gof.opt): TRACEBACK:\n",
      "ERROR (theano.gof.opt): Traceback (most recent call last):\n",
      "  File \"/Users/irio/anaconda2/lib/python3.4/site-packages/theano/gof/opt.py\", line 1772, in process_node\n",
      "    replacements = lopt.transform(node)\n",
      "  File \"/Users/irio/anaconda2/lib/python3.4/site-packages/theano/tensor/opt.py\", line 5827, in constant_folding\n",
      "    required = thunk()\n",
      "  File \"/Users/irio/anaconda2/lib/python3.4/site-packages/theano/gof/op.py\", line 883, in rval\n",
      "    fill_storage()\n",
      "  File \"/Users/irio/anaconda2/lib/python3.4/site-packages/theano/gof/cc.py\", line 1707, in __call__\n",
      "    reraise(exc_type, exc_value, exc_trace)\n",
      "  File \"/Users/irio/anaconda2/lib/python3.4/site-packages/six-1.10.0-py3.4.egg/six.py\", line 686, in reraise\n",
      "    raise value\n",
      "MemoryError: Error allocating 4 bytes of device memory (unspecified launch failure).\n",
      "\n",
      "ERROR (theano.gof.opt): Optimization failure due to: constant_folding\n",
      "ERROR (theano.gof.opt): node: GpuFromHost(TensorConstant{(1, 1) of 0.9})\n",
      "ERROR (theano.gof.opt): TRACEBACK:\n",
      "ERROR (theano.gof.opt): Traceback (most recent call last):\n",
      "  File \"/Users/irio/anaconda2/lib/python3.4/site-packages/theano/gof/opt.py\", line 1772, in process_node\n",
      "    replacements = lopt.transform(node)\n",
      "  File \"/Users/irio/anaconda2/lib/python3.4/site-packages/theano/tensor/opt.py\", line 5827, in constant_folding\n",
      "    required = thunk()\n",
      "  File \"/Users/irio/anaconda2/lib/python3.4/site-packages/theano/gof/op.py\", line 883, in rval\n",
      "    fill_storage()\n",
      "  File \"/Users/irio/anaconda2/lib/python3.4/site-packages/theano/gof/cc.py\", line 1707, in __call__\n",
      "    reraise(exc_type, exc_value, exc_trace)\n",
      "  File \"/Users/irio/anaconda2/lib/python3.4/site-packages/six-1.10.0-py3.4.egg/six.py\", line 686, in reraise\n",
      "    raise value\n",
      "MemoryError: Error allocating 4 bytes of device memory (unspecified launch failure).\n",
      "\n",
      "ERROR (theano.gof.opt): Optimization failure due to: constant_folding\n",
      "ERROR (theano.gof.opt): node: GpuFromHost(TensorConstant{(1,) of 0.9})\n",
      "ERROR (theano.gof.opt): TRACEBACK:\n",
      "ERROR (theano.gof.opt): Traceback (most recent call last):\n",
      "  File \"/Users/irio/anaconda2/lib/python3.4/site-packages/theano/gof/opt.py\", line 1772, in process_node\n",
      "    replacements = lopt.transform(node)\n",
      "  File \"/Users/irio/anaconda2/lib/python3.4/site-packages/theano/tensor/opt.py\", line 5827, in constant_folding\n",
      "    required = thunk()\n",
      "  File \"/Users/irio/anaconda2/lib/python3.4/site-packages/theano/gof/op.py\", line 883, in rval\n",
      "    fill_storage()\n",
      "  File \"/Users/irio/anaconda2/lib/python3.4/site-packages/theano/gof/cc.py\", line 1707, in __call__\n",
      "    reraise(exc_type, exc_value, exc_trace)\n",
      "  File \"/Users/irio/anaconda2/lib/python3.4/site-packages/six-1.10.0-py3.4.egg/six.py\", line 686, in reraise\n",
      "    raise value\n",
      "MemoryError: Error allocating 4 bytes of device memory (unspecified launch failure).\n",
      "\n",
      "ERROR (theano.gof.opt): Optimization failure due to: constant_folding\n",
      "ERROR (theano.gof.opt): node: GpuFromHost(TensorConstant{(1,) of 0.01})\n",
      "ERROR (theano.gof.opt): TRACEBACK:\n",
      "ERROR (theano.gof.opt): Traceback (most recent call last):\n",
      "  File \"/Users/irio/anaconda2/lib/python3.4/site-packages/theano/gof/opt.py\", line 1772, in process_node\n",
      "    replacements = lopt.transform(node)\n",
      "  File \"/Users/irio/anaconda2/lib/python3.4/site-packages/theano/tensor/opt.py\", line 5827, in constant_folding\n",
      "    required = thunk()\n",
      "  File \"/Users/irio/anaconda2/lib/python3.4/site-packages/theano/gof/op.py\", line 883, in rval\n",
      "    fill_storage()\n",
      "  File \"/Users/irio/anaconda2/lib/python3.4/site-packages/theano/gof/cc.py\", line 1707, in __call__\n",
      "    reraise(exc_type, exc_value, exc_trace)\n",
      "  File \"/Users/irio/anaconda2/lib/python3.4/site-packages/six-1.10.0-py3.4.egg/six.py\", line 686, in reraise\n",
      "    raise value\n",
      "MemoryError: Error allocating 4 bytes of device memory (unspecified launch failure).\n",
      "\n",
      "ERROR (theano.gof.opt): Optimization failure due to: constant_folding\n",
      "ERROR (theano.gof.opt): node: GpuFromHost(TensorConstant{(1,) of 0.01})\n",
      "ERROR (theano.gof.opt): TRACEBACK:\n",
      "ERROR (theano.gof.opt): Traceback (most recent call last):\n",
      "  File \"/Users/irio/anaconda2/lib/python3.4/site-packages/theano/gof/opt.py\", line 1772, in process_node\n",
      "    replacements = lopt.transform(node)\n",
      "  File \"/Users/irio/anaconda2/lib/python3.4/site-packages/theano/tensor/opt.py\", line 5827, in constant_folding\n",
      "    required = thunk()\n",
      "  File \"/Users/irio/anaconda2/lib/python3.4/site-packages/theano/gof/op.py\", line 883, in rval\n",
      "    fill_storage()\n",
      "  File \"/Users/irio/anaconda2/lib/python3.4/site-packages/theano/gof/cc.py\", line 1707, in __call__\n",
      "    reraise(exc_type, exc_value, exc_trace)\n",
      "  File \"/Users/irio/anaconda2/lib/python3.4/site-packages/six-1.10.0-py3.4.egg/six.py\", line 686, in reraise\n",
      "    raise value\n",
      "MemoryError: Error allocating 4 bytes of device memory (unspecified launch failure).\n",
      "\n",
      "ERROR (theano.gof.opt): Optimization failure due to: constant_folding\n",
      "ERROR (theano.gof.opt): node: GpuFromHost(TensorConstant{(1, 1) of 0.5})\n",
      "ERROR (theano.gof.opt): TRACEBACK:\n",
      "ERROR (theano.gof.opt): Traceback (most recent call last):\n",
      "  File \"/Users/irio/anaconda2/lib/python3.4/site-packages/theano/gof/opt.py\", line 1772, in process_node\n",
      "    replacements = lopt.transform(node)\n",
      "  File \"/Users/irio/anaconda2/lib/python3.4/site-packages/theano/tensor/opt.py\", line 5827, in constant_folding\n",
      "    required = thunk()\n",
      "  File \"/Users/irio/anaconda2/lib/python3.4/site-packages/theano/gof/op.py\", line 883, in rval\n",
      "    fill_storage()\n",
      "  File \"/Users/irio/anaconda2/lib/python3.4/site-packages/theano/gof/cc.py\", line 1707, in __call__\n",
      "    reraise(exc_type, exc_value, exc_trace)\n",
      "  File \"/Users/irio/anaconda2/lib/python3.4/site-packages/six-1.10.0-py3.4.egg/six.py\", line 686, in reraise\n",
      "    raise value\n",
      "MemoryError: Error allocating 4 bytes of device memory (unspecified launch failure).\n",
      "\n",
      "ERROR (theano.gof.opt): Optimization failure due to: constant_folding\n",
      "ERROR (theano.gof.opt): node: GpuFromHost(TensorConstant{(1, 1) of 0.9})\n",
      "ERROR (theano.gof.opt): TRACEBACK:\n",
      "ERROR (theano.gof.opt): Traceback (most recent call last):\n",
      "  File \"/Users/irio/anaconda2/lib/python3.4/site-packages/theano/gof/opt.py\", line 1772, in process_node\n",
      "    replacements = lopt.transform(node)\n",
      "  File \"/Users/irio/anaconda2/lib/python3.4/site-packages/theano/tensor/opt.py\", line 5827, in constant_folding\n",
      "    required = thunk()\n",
      "  File \"/Users/irio/anaconda2/lib/python3.4/site-packages/theano/gof/op.py\", line 883, in rval\n",
      "    fill_storage()\n",
      "  File \"/Users/irio/anaconda2/lib/python3.4/site-packages/theano/gof/cc.py\", line 1707, in __call__\n",
      "    reraise(exc_type, exc_value, exc_trace)\n",
      "  File \"/Users/irio/anaconda2/lib/python3.4/site-packages/six-1.10.0-py3.4.egg/six.py\", line 686, in reraise\n",
      "    raise value\n",
      "MemoryError: Error allocating 4 bytes of device memory (unspecified launch failure).\n",
      "\n",
      "ERROR (theano.gof.opt): Optimization failure due to: constant_folding\n",
      "ERROR (theano.gof.opt): node: GpuFromHost(TensorConstant{(1,) of 0.9})\n",
      "ERROR (theano.gof.opt): TRACEBACK:\n",
      "ERROR (theano.gof.opt): Traceback (most recent call last):\n",
      "  File \"/Users/irio/anaconda2/lib/python3.4/site-packages/theano/gof/opt.py\", line 1772, in process_node\n",
      "    replacements = lopt.transform(node)\n",
      "  File \"/Users/irio/anaconda2/lib/python3.4/site-packages/theano/tensor/opt.py\", line 5827, in constant_folding\n",
      "    required = thunk()\n",
      "  File \"/Users/irio/anaconda2/lib/python3.4/site-packages/theano/gof/op.py\", line 883, in rval\n",
      "    fill_storage()\n",
      "  File \"/Users/irio/anaconda2/lib/python3.4/site-packages/theano/gof/cc.py\", line 1707, in __call__\n",
      "    reraise(exc_type, exc_value, exc_trace)\n",
      "  File \"/Users/irio/anaconda2/lib/python3.4/site-packages/six-1.10.0-py3.4.egg/six.py\", line 686, in reraise\n",
      "    raise value\n",
      "MemoryError: Error allocating 4 bytes of device memory (unspecified launch failure).\n",
      "\n",
      "ERROR (theano.gof.opt): Optimization failure due to: constant_folding\n",
      "ERROR (theano.gof.opt): node: GpuFromHost(TensorConstant{(1, 1) of 0.9})\n",
      "ERROR (theano.gof.opt): TRACEBACK:\n",
      "ERROR (theano.gof.opt): Traceback (most recent call last):\n",
      "  File \"/Users/irio/anaconda2/lib/python3.4/site-packages/theano/gof/opt.py\", line 1772, in process_node\n",
      "    replacements = lopt.transform(node)\n",
      "  File \"/Users/irio/anaconda2/lib/python3.4/site-packages/theano/tensor/opt.py\", line 5827, in constant_folding\n",
      "    required = thunk()\n",
      "  File \"/Users/irio/anaconda2/lib/python3.4/site-packages/theano/gof/op.py\", line 883, in rval\n",
      "    fill_storage()\n",
      "  File \"/Users/irio/anaconda2/lib/python3.4/site-packages/theano/gof/cc.py\", line 1707, in __call__\n",
      "    reraise(exc_type, exc_value, exc_trace)\n",
      "  File \"/Users/irio/anaconda2/lib/python3.4/site-packages/six-1.10.0-py3.4.egg/six.py\", line 686, in reraise\n",
      "    raise value\n",
      "MemoryError: Error allocating 4 bytes of device memory (unspecified launch failure).\n",
      "\n",
      "ERROR (theano.gof.opt): Optimization failure due to: constant_folding\n",
      "ERROR (theano.gof.opt): node: GpuFromHost(TensorConstant{(1,) of 0.9})\n",
      "ERROR (theano.gof.opt): TRACEBACK:\n",
      "ERROR (theano.gof.opt): Traceback (most recent call last):\n",
      "  File \"/Users/irio/anaconda2/lib/python3.4/site-packages/theano/gof/opt.py\", line 1772, in process_node\n",
      "    replacements = lopt.transform(node)\n",
      "  File \"/Users/irio/anaconda2/lib/python3.4/site-packages/theano/tensor/opt.py\", line 5827, in constant_folding\n",
      "    required = thunk()\n",
      "  File \"/Users/irio/anaconda2/lib/python3.4/site-packages/theano/gof/op.py\", line 883, in rval\n",
      "    fill_storage()\n",
      "  File \"/Users/irio/anaconda2/lib/python3.4/site-packages/theano/gof/cc.py\", line 1707, in __call__\n",
      "    reraise(exc_type, exc_value, exc_trace)\n",
      "  File \"/Users/irio/anaconda2/lib/python3.4/site-packages/six-1.10.0-py3.4.egg/six.py\", line 686, in reraise\n",
      "    raise value\n",
      "MemoryError: Error allocating 4 bytes of device memory (unspecified launch failure).\n",
      "\n",
      "ERROR (theano.gof.opt): Optimization failure due to: constant_folding\n",
      "ERROR (theano.gof.opt): node: GpuFromHost(TensorConstant{(1,) of 0.01})\n",
      "ERROR (theano.gof.opt): TRACEBACK:\n",
      "ERROR (theano.gof.opt): Traceback (most recent call last):\n",
      "  File \"/Users/irio/anaconda2/lib/python3.4/site-packages/theano/gof/opt.py\", line 1772, in process_node\n",
      "    replacements = lopt.transform(node)\n",
      "  File \"/Users/irio/anaconda2/lib/python3.4/site-packages/theano/tensor/opt.py\", line 5827, in constant_folding\n",
      "    required = thunk()\n",
      "  File \"/Users/irio/anaconda2/lib/python3.4/site-packages/theano/gof/op.py\", line 883, in rval\n",
      "    fill_storage()\n",
      "  File \"/Users/irio/anaconda2/lib/python3.4/site-packages/theano/gof/cc.py\", line 1707, in __call__\n",
      "    reraise(exc_type, exc_value, exc_trace)\n",
      "  File \"/Users/irio/anaconda2/lib/python3.4/site-packages/six-1.10.0-py3.4.egg/six.py\", line 686, in reraise\n",
      "    raise value\n",
      "MemoryError: Error allocating 4 bytes of device memory (unspecified launch failure).\n",
      "\n",
      "ERROR (theano.gof.opt): Optimization failure due to: constant_folding\n",
      "ERROR (theano.gof.opt): node: GpuFromHost(TensorConstant{(1, 1) of 0.5})\n",
      "ERROR (theano.gof.opt): TRACEBACK:\n",
      "ERROR (theano.gof.opt): Traceback (most recent call last):\n",
      "  File \"/Users/irio/anaconda2/lib/python3.4/site-packages/theano/gof/opt.py\", line 1772, in process_node\n",
      "    replacements = lopt.transform(node)\n",
      "  File \"/Users/irio/anaconda2/lib/python3.4/site-packages/theano/tensor/opt.py\", line 5827, in constant_folding\n",
      "    required = thunk()\n",
      "  File \"/Users/irio/anaconda2/lib/python3.4/site-packages/theano/gof/op.py\", line 883, in rval\n",
      "    fill_storage()\n",
      "  File \"/Users/irio/anaconda2/lib/python3.4/site-packages/theano/gof/cc.py\", line 1707, in __call__\n",
      "    reraise(exc_type, exc_value, exc_trace)\n",
      "  File \"/Users/irio/anaconda2/lib/python3.4/site-packages/six-1.10.0-py3.4.egg/six.py\", line 686, in reraise\n",
      "    raise value\n",
      "MemoryError: Error allocating 4 bytes of device memory (unspecified launch failure).\n",
      "\n",
      "ERROR (theano.gof.opt): Optimization failure due to: constant_folding\n",
      "ERROR (theano.gof.opt): node: GpuFromHost(TensorConstant{(1, 1) of 0.9})\n",
      "ERROR (theano.gof.opt): TRACEBACK:\n",
      "ERROR (theano.gof.opt): Traceback (most recent call last):\n",
      "  File \"/Users/irio/anaconda2/lib/python3.4/site-packages/theano/gof/opt.py\", line 1772, in process_node\n",
      "    replacements = lopt.transform(node)\n",
      "  File \"/Users/irio/anaconda2/lib/python3.4/site-packages/theano/tensor/opt.py\", line 5827, in constant_folding\n",
      "    required = thunk()\n",
      "  File \"/Users/irio/anaconda2/lib/python3.4/site-packages/theano/gof/op.py\", line 883, in rval\n",
      "    fill_storage()\n",
      "  File \"/Users/irio/anaconda2/lib/python3.4/site-packages/theano/gof/cc.py\", line 1707, in __call__\n",
      "    reraise(exc_type, exc_value, exc_trace)\n",
      "  File \"/Users/irio/anaconda2/lib/python3.4/site-packages/six-1.10.0-py3.4.egg/six.py\", line 686, in reraise\n",
      "    raise value\n",
      "MemoryError: Error allocating 4 bytes of device memory (unspecified launch failure).\n",
      "\n",
      "ERROR (theano.gof.opt): Optimization failure due to: constant_folding\n",
      "ERROR (theano.gof.opt): node: GpuFromHost(TensorConstant{(1,) of 0.9})\n",
      "ERROR (theano.gof.opt): TRACEBACK:\n",
      "ERROR (theano.gof.opt): Traceback (most recent call last):\n",
      "  File \"/Users/irio/anaconda2/lib/python3.4/site-packages/theano/gof/opt.py\", line 1772, in process_node\n",
      "    replacements = lopt.transform(node)\n",
      "  File \"/Users/irio/anaconda2/lib/python3.4/site-packages/theano/tensor/opt.py\", line 5827, in constant_folding\n",
      "    required = thunk()\n",
      "  File \"/Users/irio/anaconda2/lib/python3.4/site-packages/theano/gof/op.py\", line 883, in rval\n",
      "    fill_storage()\n",
      "  File \"/Users/irio/anaconda2/lib/python3.4/site-packages/theano/gof/cc.py\", line 1707, in __call__\n",
      "    reraise(exc_type, exc_value, exc_trace)\n",
      "  File \"/Users/irio/anaconda2/lib/python3.4/site-packages/six-1.10.0-py3.4.egg/six.py\", line 686, in reraise\n",
      "    raise value\n",
      "MemoryError: Error allocating 4 bytes of device memory (unspecified launch failure).\n",
      "\n",
      "ERROR (theano.gof.opt): Optimization failure due to: constant_folding\n",
      "ERROR (theano.gof.opt): node: GpuFromHost(TensorConstant{(1,) of 0.01})\n",
      "ERROR (theano.gof.opt): TRACEBACK:\n",
      "ERROR (theano.gof.opt): Traceback (most recent call last):\n",
      "  File \"/Users/irio/anaconda2/lib/python3.4/site-packages/theano/gof/opt.py\", line 1772, in process_node\n",
      "    replacements = lopt.transform(node)\n",
      "  File \"/Users/irio/anaconda2/lib/python3.4/site-packages/theano/tensor/opt.py\", line 5827, in constant_folding\n",
      "    required = thunk()\n",
      "  File \"/Users/irio/anaconda2/lib/python3.4/site-packages/theano/gof/op.py\", line 883, in rval\n",
      "    fill_storage()\n",
      "  File \"/Users/irio/anaconda2/lib/python3.4/site-packages/theano/gof/cc.py\", line 1707, in __call__\n",
      "    reraise(exc_type, exc_value, exc_trace)\n",
      "  File \"/Users/irio/anaconda2/lib/python3.4/site-packages/six-1.10.0-py3.4.egg/six.py\", line 686, in reraise\n",
      "    raise value\n",
      "MemoryError: Error allocating 4 bytes of device memory (unspecified launch failure).\n",
      "\n",
      "ERROR (theano.gof.opt): Optimization failure due to: constant_folding\n",
      "ERROR (theano.gof.opt): node: GpuFromHost(TensorConstant{(1, 1) of 0.5})\n",
      "ERROR (theano.gof.opt): TRACEBACK:\n",
      "ERROR (theano.gof.opt): Traceback (most recent call last):\n",
      "  File \"/Users/irio/anaconda2/lib/python3.4/site-packages/theano/gof/opt.py\", line 1772, in process_node\n",
      "    replacements = lopt.transform(node)\n",
      "  File \"/Users/irio/anaconda2/lib/python3.4/site-packages/theano/tensor/opt.py\", line 5827, in constant_folding\n",
      "    required = thunk()\n",
      "  File \"/Users/irio/anaconda2/lib/python3.4/site-packages/theano/gof/op.py\", line 883, in rval\n",
      "    fill_storage()\n",
      "  File \"/Users/irio/anaconda2/lib/python3.4/site-packages/theano/gof/cc.py\", line 1707, in __call__\n",
      "    reraise(exc_type, exc_value, exc_trace)\n",
      "  File \"/Users/irio/anaconda2/lib/python3.4/site-packages/six-1.10.0-py3.4.egg/six.py\", line 686, in reraise\n",
      "    raise value\n",
      "MemoryError: Error allocating 4 bytes of device memory (unspecified launch failure).\n",
      "\n",
      "ERROR (theano.gof.opt): Optimization failure due to: constant_folding\n",
      "ERROR (theano.gof.opt): node: GpuFromHost(TensorConstant{(1, 1) of 0.9})\n",
      "ERROR (theano.gof.opt): TRACEBACK:\n",
      "ERROR (theano.gof.opt): Traceback (most recent call last):\n",
      "  File \"/Users/irio/anaconda2/lib/python3.4/site-packages/theano/gof/opt.py\", line 1772, in process_node\n",
      "    replacements = lopt.transform(node)\n",
      "  File \"/Users/irio/anaconda2/lib/python3.4/site-packages/theano/tensor/opt.py\", line 5827, in constant_folding\n",
      "    required = thunk()\n",
      "  File \"/Users/irio/anaconda2/lib/python3.4/site-packages/theano/gof/op.py\", line 883, in rval\n",
      "    fill_storage()\n",
      "  File \"/Users/irio/anaconda2/lib/python3.4/site-packages/theano/gof/cc.py\", line 1707, in __call__\n",
      "    reraise(exc_type, exc_value, exc_trace)\n",
      "  File \"/Users/irio/anaconda2/lib/python3.4/site-packages/six-1.10.0-py3.4.egg/six.py\", line 686, in reraise\n",
      "    raise value\n",
      "MemoryError: Error allocating 4 bytes of device memory (unspecified launch failure).\n",
      "\n",
      "ERROR (theano.gof.opt): Optimization failure due to: constant_folding\n",
      "ERROR (theano.gof.opt): node: GpuFromHost(TensorConstant{(1,) of 0.9})\n",
      "ERROR (theano.gof.opt): TRACEBACK:\n",
      "ERROR (theano.gof.opt): Traceback (most recent call last):\n",
      "  File \"/Users/irio/anaconda2/lib/python3.4/site-packages/theano/gof/opt.py\", line 1772, in process_node\n",
      "    replacements = lopt.transform(node)\n",
      "  File \"/Users/irio/anaconda2/lib/python3.4/site-packages/theano/tensor/opt.py\", line 5827, in constant_folding\n",
      "    required = thunk()\n",
      "  File \"/Users/irio/anaconda2/lib/python3.4/site-packages/theano/gof/op.py\", line 883, in rval\n",
      "    fill_storage()\n",
      "  File \"/Users/irio/anaconda2/lib/python3.4/site-packages/theano/gof/cc.py\", line 1707, in __call__\n",
      "    reraise(exc_type, exc_value, exc_trace)\n",
      "  File \"/Users/irio/anaconda2/lib/python3.4/site-packages/six-1.10.0-py3.4.egg/six.py\", line 686, in reraise\n",
      "    raise value\n",
      "MemoryError: Error allocating 4 bytes of device memory (unspecified launch failure).\n",
      "\n",
      "ERROR (theano.gof.opt): Optimization failure due to: constant_folding\n",
      "ERROR (theano.gof.opt): node: GpuFromHost(TensorConstant{(1,) of 0.01})\n",
      "ERROR (theano.gof.opt): TRACEBACK:\n",
      "ERROR (theano.gof.opt): Traceback (most recent call last):\n",
      "  File \"/Users/irio/anaconda2/lib/python3.4/site-packages/theano/gof/opt.py\", line 1772, in process_node\n",
      "    replacements = lopt.transform(node)\n",
      "  File \"/Users/irio/anaconda2/lib/python3.4/site-packages/theano/tensor/opt.py\", line 5827, in constant_folding\n",
      "    required = thunk()\n",
      "  File \"/Users/irio/anaconda2/lib/python3.4/site-packages/theano/gof/op.py\", line 883, in rval\n",
      "    fill_storage()\n",
      "  File \"/Users/irio/anaconda2/lib/python3.4/site-packages/theano/gof/cc.py\", line 1707, in __call__\n",
      "    reraise(exc_type, exc_value, exc_trace)\n",
      "  File \"/Users/irio/anaconda2/lib/python3.4/site-packages/six-1.10.0-py3.4.egg/six.py\", line 686, in reraise\n",
      "    raise value\n",
      "MemoryError: Error allocating 4 bytes of device memory (unspecified launch failure).\n",
      "\n",
      "ERROR (theano.gof.opt): Optimization failure due to: constant_folding\n",
      "ERROR (theano.gof.opt): node: GpuFromHost(TensorConstant{(1, 1) of 0.5})\n",
      "ERROR (theano.gof.opt): TRACEBACK:\n",
      "ERROR (theano.gof.opt): Traceback (most recent call last):\n",
      "  File \"/Users/irio/anaconda2/lib/python3.4/site-packages/theano/gof/opt.py\", line 1772, in process_node\n",
      "    replacements = lopt.transform(node)\n",
      "  File \"/Users/irio/anaconda2/lib/python3.4/site-packages/theano/tensor/opt.py\", line 5827, in constant_folding\n",
      "    required = thunk()\n",
      "  File \"/Users/irio/anaconda2/lib/python3.4/site-packages/theano/gof/op.py\", line 883, in rval\n",
      "    fill_storage()\n",
      "  File \"/Users/irio/anaconda2/lib/python3.4/site-packages/theano/gof/cc.py\", line 1707, in __call__\n",
      "    reraise(exc_type, exc_value, exc_trace)\n",
      "  File \"/Users/irio/anaconda2/lib/python3.4/site-packages/six-1.10.0-py3.4.egg/six.py\", line 686, in reraise\n",
      "    raise value\n",
      "MemoryError: Error allocating 4 bytes of device memory (unspecified launch failure).\n",
      "\n",
      "ERROR (theano.gof.opt): Optimization failure due to: constant_folding\n",
      "ERROR (theano.gof.opt): node: GpuFromHost(TensorConstant{(1, 1) of 0.9})\n",
      "ERROR (theano.gof.opt): TRACEBACK:\n",
      "ERROR (theano.gof.opt): Traceback (most recent call last):\n",
      "  File \"/Users/irio/anaconda2/lib/python3.4/site-packages/theano/gof/opt.py\", line 1772, in process_node\n",
      "    replacements = lopt.transform(node)\n",
      "  File \"/Users/irio/anaconda2/lib/python3.4/site-packages/theano/tensor/opt.py\", line 5827, in constant_folding\n",
      "    required = thunk()\n",
      "  File \"/Users/irio/anaconda2/lib/python3.4/site-packages/theano/gof/op.py\", line 883, in rval\n",
      "    fill_storage()\n",
      "  File \"/Users/irio/anaconda2/lib/python3.4/site-packages/theano/gof/cc.py\", line 1707, in __call__\n",
      "    reraise(exc_type, exc_value, exc_trace)\n",
      "  File \"/Users/irio/anaconda2/lib/python3.4/site-packages/six-1.10.0-py3.4.egg/six.py\", line 686, in reraise\n",
      "    raise value\n",
      "MemoryError: Error allocating 4 bytes of device memory (unspecified launch failure).\n",
      "\n",
      "ERROR (theano.gof.opt): Optimization failure due to: constant_folding\n",
      "ERROR (theano.gof.opt): node: GpuFromHost(TensorConstant{(1,) of 0.9})\n",
      "ERROR (theano.gof.opt): TRACEBACK:\n",
      "ERROR (theano.gof.opt): Traceback (most recent call last):\n",
      "  File \"/Users/irio/anaconda2/lib/python3.4/site-packages/theano/gof/opt.py\", line 1772, in process_node\n",
      "    replacements = lopt.transform(node)\n",
      "  File \"/Users/irio/anaconda2/lib/python3.4/site-packages/theano/tensor/opt.py\", line 5827, in constant_folding\n",
      "    required = thunk()\n",
      "  File \"/Users/irio/anaconda2/lib/python3.4/site-packages/theano/gof/op.py\", line 883, in rval\n",
      "    fill_storage()\n",
      "  File \"/Users/irio/anaconda2/lib/python3.4/site-packages/theano/gof/cc.py\", line 1707, in __call__\n",
      "    reraise(exc_type, exc_value, exc_trace)\n",
      "  File \"/Users/irio/anaconda2/lib/python3.4/site-packages/six-1.10.0-py3.4.egg/six.py\", line 686, in reraise\n",
      "    raise value\n",
      "MemoryError: Error allocating 4 bytes of device memory (unspecified launch failure).\n",
      "\n",
      "ERROR (theano.gof.opt): Optimization failure due to: constant_folding\n",
      "ERROR (theano.gof.opt): node: GpuFromHost(TensorConstant{(1,) of 0.01})\n",
      "ERROR (theano.gof.opt): TRACEBACK:\n",
      "ERROR (theano.gof.opt): Traceback (most recent call last):\n",
      "  File \"/Users/irio/anaconda2/lib/python3.4/site-packages/theano/gof/opt.py\", line 1772, in process_node\n",
      "    replacements = lopt.transform(node)\n",
      "  File \"/Users/irio/anaconda2/lib/python3.4/site-packages/theano/tensor/opt.py\", line 5827, in constant_folding\n",
      "    required = thunk()\n",
      "  File \"/Users/irio/anaconda2/lib/python3.4/site-packages/theano/gof/op.py\", line 883, in rval\n",
      "    fill_storage()\n",
      "  File \"/Users/irio/anaconda2/lib/python3.4/site-packages/theano/gof/cc.py\", line 1707, in __call__\n",
      "    reraise(exc_type, exc_value, exc_trace)\n",
      "  File \"/Users/irio/anaconda2/lib/python3.4/site-packages/six-1.10.0-py3.4.egg/six.py\", line 686, in reraise\n",
      "    raise value\n",
      "MemoryError: Error allocating 4 bytes of device memory (unspecified launch failure).\n",
      "\n",
      "ERROR (theano.gof.opt): Optimization failure due to: constant_folding\n",
      "ERROR (theano.gof.opt): node: GpuFromHost(TensorConstant{(1, 1) of 0.5})\n",
      "ERROR (theano.gof.opt): TRACEBACK:\n",
      "ERROR (theano.gof.opt): Traceback (most recent call last):\n",
      "  File \"/Users/irio/anaconda2/lib/python3.4/site-packages/theano/gof/opt.py\", line 1772, in process_node\n",
      "    replacements = lopt.transform(node)\n",
      "  File \"/Users/irio/anaconda2/lib/python3.4/site-packages/theano/tensor/opt.py\", line 5827, in constant_folding\n",
      "    required = thunk()\n",
      "  File \"/Users/irio/anaconda2/lib/python3.4/site-packages/theano/gof/op.py\", line 883, in rval\n",
      "    fill_storage()\n",
      "  File \"/Users/irio/anaconda2/lib/python3.4/site-packages/theano/gof/cc.py\", line 1707, in __call__\n",
      "    reraise(exc_type, exc_value, exc_trace)\n",
      "  File \"/Users/irio/anaconda2/lib/python3.4/site-packages/six-1.10.0-py3.4.egg/six.py\", line 686, in reraise\n",
      "    raise value\n",
      "MemoryError: Error allocating 4 bytes of device memory (unspecified launch failure).\n",
      "\n",
      "ERROR (theano.gof.opt): Optimization failure due to: constant_folding\n",
      "ERROR (theano.gof.opt): node: GpuFromHost(TensorConstant{(1, 1) of 0.9})\n",
      "ERROR (theano.gof.opt): TRACEBACK:\n",
      "ERROR (theano.gof.opt): Traceback (most recent call last):\n",
      "  File \"/Users/irio/anaconda2/lib/python3.4/site-packages/theano/gof/opt.py\", line 1772, in process_node\n",
      "    replacements = lopt.transform(node)\n",
      "  File \"/Users/irio/anaconda2/lib/python3.4/site-packages/theano/tensor/opt.py\", line 5827, in constant_folding\n",
      "    required = thunk()\n",
      "  File \"/Users/irio/anaconda2/lib/python3.4/site-packages/theano/gof/op.py\", line 883, in rval\n",
      "    fill_storage()\n",
      "  File \"/Users/irio/anaconda2/lib/python3.4/site-packages/theano/gof/cc.py\", line 1707, in __call__\n",
      "    reraise(exc_type, exc_value, exc_trace)\n",
      "  File \"/Users/irio/anaconda2/lib/python3.4/site-packages/six-1.10.0-py3.4.egg/six.py\", line 686, in reraise\n",
      "    raise value\n",
      "MemoryError: Error allocating 4 bytes of device memory (unspecified launch failure).\n",
      "\n",
      "ERROR (theano.gof.opt): Optimization failure due to: constant_folding\n",
      "ERROR (theano.gof.opt): node: GpuFromHost(TensorConstant{(1,) of 0.9})\n",
      "ERROR (theano.gof.opt): TRACEBACK:\n",
      "ERROR (theano.gof.opt): Traceback (most recent call last):\n",
      "  File \"/Users/irio/anaconda2/lib/python3.4/site-packages/theano/gof/opt.py\", line 1772, in process_node\n",
      "    replacements = lopt.transform(node)\n",
      "  File \"/Users/irio/anaconda2/lib/python3.4/site-packages/theano/tensor/opt.py\", line 5827, in constant_folding\n",
      "    required = thunk()\n",
      "  File \"/Users/irio/anaconda2/lib/python3.4/site-packages/theano/gof/op.py\", line 883, in rval\n",
      "    fill_storage()\n",
      "  File \"/Users/irio/anaconda2/lib/python3.4/site-packages/theano/gof/cc.py\", line 1707, in __call__\n",
      "    reraise(exc_type, exc_value, exc_trace)\n",
      "  File \"/Users/irio/anaconda2/lib/python3.4/site-packages/six-1.10.0-py3.4.egg/six.py\", line 686, in reraise\n",
      "    raise value\n",
      "MemoryError: Error allocating 4 bytes of device memory (unspecified launch failure).\n",
      "\n",
      "ERROR (theano.gof.opt): Optimization failure due to: constant_folding\n",
      "ERROR (theano.gof.opt): node: GpuFromHost(TensorConstant{(1,) of 0.01})\n",
      "ERROR (theano.gof.opt): TRACEBACK:\n",
      "ERROR (theano.gof.opt): Traceback (most recent call last):\n",
      "  File \"/Users/irio/anaconda2/lib/python3.4/site-packages/theano/gof/opt.py\", line 1772, in process_node\n",
      "    replacements = lopt.transform(node)\n",
      "  File \"/Users/irio/anaconda2/lib/python3.4/site-packages/theano/tensor/opt.py\", line 5827, in constant_folding\n",
      "    required = thunk()\n",
      "  File \"/Users/irio/anaconda2/lib/python3.4/site-packages/theano/gof/op.py\", line 883, in rval\n",
      "    fill_storage()\n",
      "  File \"/Users/irio/anaconda2/lib/python3.4/site-packages/theano/gof/cc.py\", line 1707, in __call__\n",
      "    reraise(exc_type, exc_value, exc_trace)\n",
      "  File \"/Users/irio/anaconda2/lib/python3.4/site-packages/six-1.10.0-py3.4.egg/six.py\", line 686, in reraise\n",
      "    raise value\n",
      "MemoryError: Error allocating 4 bytes of device memory (unspecified launch failure).\n",
      "\n",
      "ERROR (theano.gof.opt): Optimization failure due to: constant_folding\n",
      "ERROR (theano.gof.opt): node: GpuFromHost(TensorConstant{(1, 1) of 0.5})\n",
      "ERROR (theano.gof.opt): TRACEBACK:\n",
      "ERROR (theano.gof.opt): Traceback (most recent call last):\n",
      "  File \"/Users/irio/anaconda2/lib/python3.4/site-packages/theano/gof/opt.py\", line 1772, in process_node\n",
      "    replacements = lopt.transform(node)\n",
      "  File \"/Users/irio/anaconda2/lib/python3.4/site-packages/theano/tensor/opt.py\", line 5827, in constant_folding\n",
      "    required = thunk()\n",
      "  File \"/Users/irio/anaconda2/lib/python3.4/site-packages/theano/gof/op.py\", line 883, in rval\n",
      "    fill_storage()\n",
      "  File \"/Users/irio/anaconda2/lib/python3.4/site-packages/theano/gof/cc.py\", line 1707, in __call__\n",
      "    reraise(exc_type, exc_value, exc_trace)\n",
      "  File \"/Users/irio/anaconda2/lib/python3.4/site-packages/six-1.10.0-py3.4.egg/six.py\", line 686, in reraise\n",
      "    raise value\n",
      "MemoryError: Error allocating 4 bytes of device memory (unspecified launch failure).\n",
      "\n",
      "ERROR (theano.gof.opt): Optimization failure due to: constant_folding\n",
      "ERROR (theano.gof.opt): node: GpuFromHost(TensorConstant{(1, 1) of 0.9})\n",
      "ERROR (theano.gof.opt): TRACEBACK:\n",
      "ERROR (theano.gof.opt): Traceback (most recent call last):\n",
      "  File \"/Users/irio/anaconda2/lib/python3.4/site-packages/theano/gof/opt.py\", line 1772, in process_node\n",
      "    replacements = lopt.transform(node)\n",
      "  File \"/Users/irio/anaconda2/lib/python3.4/site-packages/theano/tensor/opt.py\", line 5827, in constant_folding\n",
      "    required = thunk()\n",
      "  File \"/Users/irio/anaconda2/lib/python3.4/site-packages/theano/gof/op.py\", line 883, in rval\n",
      "    fill_storage()\n",
      "  File \"/Users/irio/anaconda2/lib/python3.4/site-packages/theano/gof/cc.py\", line 1707, in __call__\n",
      "    reraise(exc_type, exc_value, exc_trace)\n",
      "  File \"/Users/irio/anaconda2/lib/python3.4/site-packages/six-1.10.0-py3.4.egg/six.py\", line 686, in reraise\n",
      "    raise value\n",
      "MemoryError: Error allocating 4 bytes of device memory (unspecified launch failure).\n",
      "\n",
      "ERROR (theano.gof.opt): Optimization failure due to: constant_folding\n",
      "ERROR (theano.gof.opt): node: GpuFromHost(TensorConstant{(1,) of 0.9})\n",
      "ERROR (theano.gof.opt): TRACEBACK:\n",
      "ERROR (theano.gof.opt): Traceback (most recent call last):\n",
      "  File \"/Users/irio/anaconda2/lib/python3.4/site-packages/theano/gof/opt.py\", line 1772, in process_node\n",
      "    replacements = lopt.transform(node)\n",
      "  File \"/Users/irio/anaconda2/lib/python3.4/site-packages/theano/tensor/opt.py\", line 5827, in constant_folding\n",
      "    required = thunk()\n",
      "  File \"/Users/irio/anaconda2/lib/python3.4/site-packages/theano/gof/op.py\", line 883, in rval\n",
      "    fill_storage()\n",
      "  File \"/Users/irio/anaconda2/lib/python3.4/site-packages/theano/gof/cc.py\", line 1707, in __call__\n",
      "    reraise(exc_type, exc_value, exc_trace)\n",
      "  File \"/Users/irio/anaconda2/lib/python3.4/site-packages/six-1.10.0-py3.4.egg/six.py\", line 686, in reraise\n",
      "    raise value\n",
      "MemoryError: Error allocating 4 bytes of device memory (unspecified launch failure).\n",
      "\n",
      "ERROR (theano.gof.opt): Optimization failure due to: constant_folding\n",
      "ERROR (theano.gof.opt): node: GpuFromHost(TensorConstant{(1,) of 0.01})\n",
      "ERROR (theano.gof.opt): TRACEBACK:\n",
      "ERROR (theano.gof.opt): Traceback (most recent call last):\n",
      "  File \"/Users/irio/anaconda2/lib/python3.4/site-packages/theano/gof/opt.py\", line 1772, in process_node\n",
      "    replacements = lopt.transform(node)\n",
      "  File \"/Users/irio/anaconda2/lib/python3.4/site-packages/theano/tensor/opt.py\", line 5827, in constant_folding\n",
      "    required = thunk()\n",
      "  File \"/Users/irio/anaconda2/lib/python3.4/site-packages/theano/gof/op.py\", line 883, in rval\n",
      "    fill_storage()\n",
      "  File \"/Users/irio/anaconda2/lib/python3.4/site-packages/theano/gof/cc.py\", line 1707, in __call__\n",
      "    reraise(exc_type, exc_value, exc_trace)\n",
      "  File \"/Users/irio/anaconda2/lib/python3.4/site-packages/six-1.10.0-py3.4.egg/six.py\", line 686, in reraise\n",
      "    raise value\n",
      "MemoryError: Error allocating 4 bytes of device memory (unspecified launch failure).\n",
      "\n",
      "ERROR (theano.gof.opt): Optimization failure due to: constant_folding\n",
      "ERROR (theano.gof.opt): node: GpuFromHost(TensorConstant{(1, 1) of 0.5})\n",
      "ERROR (theano.gof.opt): TRACEBACK:\n",
      "ERROR (theano.gof.opt): Traceback (most recent call last):\n",
      "  File \"/Users/irio/anaconda2/lib/python3.4/site-packages/theano/gof/opt.py\", line 1772, in process_node\n",
      "    replacements = lopt.transform(node)\n",
      "  File \"/Users/irio/anaconda2/lib/python3.4/site-packages/theano/tensor/opt.py\", line 5827, in constant_folding\n",
      "    required = thunk()\n",
      "  File \"/Users/irio/anaconda2/lib/python3.4/site-packages/theano/gof/op.py\", line 883, in rval\n",
      "    fill_storage()\n",
      "  File \"/Users/irio/anaconda2/lib/python3.4/site-packages/theano/gof/cc.py\", line 1707, in __call__\n",
      "    reraise(exc_type, exc_value, exc_trace)\n",
      "  File \"/Users/irio/anaconda2/lib/python3.4/site-packages/six-1.10.0-py3.4.egg/six.py\", line 686, in reraise\n",
      "    raise value\n",
      "MemoryError: Error allocating 4 bytes of device memory (unspecified launch failure).\n",
      "\n",
      "ERROR (theano.gof.opt): Optimization failure due to: constant_folding\n",
      "ERROR (theano.gof.opt): node: GpuFromHost(TensorConstant{(1, 1) of 0.5})\n",
      "ERROR (theano.gof.opt): TRACEBACK:\n",
      "ERROR (theano.gof.opt): Traceback (most recent call last):\n",
      "  File \"/Users/irio/anaconda2/lib/python3.4/site-packages/theano/gof/opt.py\", line 1772, in process_node\n",
      "    replacements = lopt.transform(node)\n",
      "  File \"/Users/irio/anaconda2/lib/python3.4/site-packages/theano/tensor/opt.py\", line 5827, in constant_folding\n",
      "    required = thunk()\n",
      "  File \"/Users/irio/anaconda2/lib/python3.4/site-packages/theano/gof/op.py\", line 883, in rval\n",
      "    fill_storage()\n",
      "  File \"/Users/irio/anaconda2/lib/python3.4/site-packages/theano/gof/cc.py\", line 1707, in __call__\n",
      "    reraise(exc_type, exc_value, exc_trace)\n",
      "  File \"/Users/irio/anaconda2/lib/python3.4/site-packages/six-1.10.0-py3.4.egg/six.py\", line 686, in reraise\n",
      "    raise value\n",
      "MemoryError: Error allocating 4 bytes of device memory (unspecified launch failure).\n",
      "\n",
      "ERROR (theano.gof.opt): Optimization failure due to: constant_folding\n",
      "ERROR (theano.gof.opt): node: GpuFromHost(TensorConstant{(1, 1) of 0.5})\n",
      "ERROR (theano.gof.opt): TRACEBACK:\n",
      "ERROR (theano.gof.opt): Traceback (most recent call last):\n",
      "  File \"/Users/irio/anaconda2/lib/python3.4/site-packages/theano/gof/opt.py\", line 1772, in process_node\n",
      "    replacements = lopt.transform(node)\n",
      "  File \"/Users/irio/anaconda2/lib/python3.4/site-packages/theano/tensor/opt.py\", line 5827, in constant_folding\n",
      "    required = thunk()\n",
      "  File \"/Users/irio/anaconda2/lib/python3.4/site-packages/theano/gof/op.py\", line 883, in rval\n",
      "    fill_storage()\n",
      "  File \"/Users/irio/anaconda2/lib/python3.4/site-packages/theano/gof/cc.py\", line 1707, in __call__\n",
      "    reraise(exc_type, exc_value, exc_trace)\n",
      "  File \"/Users/irio/anaconda2/lib/python3.4/site-packages/six-1.10.0-py3.4.egg/six.py\", line 686, in reraise\n",
      "    raise value\n",
      "MemoryError: Error allocating 4 bytes of device memory (unspecified launch failure).\n",
      "\n",
      "ERROR (theano.gof.opt): Optimization failure due to: constant_folding\n",
      "ERROR (theano.gof.opt): node: GpuFromHost(TensorConstant{(1, 1) of 0.5})\n",
      "ERROR (theano.gof.opt): TRACEBACK:\n",
      "ERROR (theano.gof.opt): Traceback (most recent call last):\n",
      "  File \"/Users/irio/anaconda2/lib/python3.4/site-packages/theano/gof/opt.py\", line 1772, in process_node\n",
      "    replacements = lopt.transform(node)\n",
      "  File \"/Users/irio/anaconda2/lib/python3.4/site-packages/theano/tensor/opt.py\", line 5827, in constant_folding\n",
      "    required = thunk()\n",
      "  File \"/Users/irio/anaconda2/lib/python3.4/site-packages/theano/gof/op.py\", line 883, in rval\n",
      "    fill_storage()\n",
      "  File \"/Users/irio/anaconda2/lib/python3.4/site-packages/theano/gof/cc.py\", line 1707, in __call__\n",
      "    reraise(exc_type, exc_value, exc_trace)\n",
      "  File \"/Users/irio/anaconda2/lib/python3.4/site-packages/six-1.10.0-py3.4.egg/six.py\", line 686, in reraise\n",
      "    raise value\n",
      "MemoryError: Error allocating 4 bytes of device memory (unspecified launch failure).\n",
      "\n",
      "ERROR (theano.gof.opt): Optimization failure due to: constant_folding\n",
      "ERROR (theano.gof.opt): node: GpuFromHost(TensorConstant{(1, 1) of 0.5})\n",
      "ERROR (theano.gof.opt): TRACEBACK:\n",
      "ERROR (theano.gof.opt): Traceback (most recent call last):\n",
      "  File \"/Users/irio/anaconda2/lib/python3.4/site-packages/theano/gof/opt.py\", line 1772, in process_node\n",
      "    replacements = lopt.transform(node)\n",
      "  File \"/Users/irio/anaconda2/lib/python3.4/site-packages/theano/tensor/opt.py\", line 5827, in constant_folding\n",
      "    required = thunk()\n",
      "  File \"/Users/irio/anaconda2/lib/python3.4/site-packages/theano/gof/op.py\", line 883, in rval\n",
      "    fill_storage()\n",
      "  File \"/Users/irio/anaconda2/lib/python3.4/site-packages/theano/gof/cc.py\", line 1707, in __call__\n",
      "    reraise(exc_type, exc_value, exc_trace)\n",
      "  File \"/Users/irio/anaconda2/lib/python3.4/site-packages/six-1.10.0-py3.4.egg/six.py\", line 686, in reraise\n",
      "    raise value\n",
      "MemoryError: Error allocating 4 bytes of device memory (unspecified launch failure).\n",
      "\n",
      "ERROR (theano.gof.opt): Optimization failure due to: constant_folding\n",
      "ERROR (theano.gof.opt): node: GpuFromHost(TensorConstant{(1, 1) of 0.5})\n",
      "ERROR (theano.gof.opt): TRACEBACK:\n",
      "ERROR (theano.gof.opt): Traceback (most recent call last):\n",
      "  File \"/Users/irio/anaconda2/lib/python3.4/site-packages/theano/gof/opt.py\", line 1772, in process_node\n",
      "    replacements = lopt.transform(node)\n",
      "  File \"/Users/irio/anaconda2/lib/python3.4/site-packages/theano/tensor/opt.py\", line 5827, in constant_folding\n",
      "    required = thunk()\n",
      "  File \"/Users/irio/anaconda2/lib/python3.4/site-packages/theano/gof/op.py\", line 883, in rval\n",
      "    fill_storage()\n",
      "  File \"/Users/irio/anaconda2/lib/python3.4/site-packages/theano/gof/cc.py\", line 1707, in __call__\n",
      "    reraise(exc_type, exc_value, exc_trace)\n",
      "  File \"/Users/irio/anaconda2/lib/python3.4/site-packages/six-1.10.0-py3.4.egg/six.py\", line 686, in reraise\n",
      "    raise value\n",
      "MemoryError: Error allocating 4 bytes of device memory (unspecified launch failure).\n",
      "\n",
      "ERROR (theano.gof.opt): Optimization failure due to: constant_folding\n",
      "ERROR (theano.gof.opt): node: GpuFromHost(TensorConstant{(1, 1) of 0.5})\n",
      "ERROR (theano.gof.opt): TRACEBACK:\n",
      "ERROR (theano.gof.opt): Traceback (most recent call last):\n",
      "  File \"/Users/irio/anaconda2/lib/python3.4/site-packages/theano/gof/opt.py\", line 1772, in process_node\n",
      "    replacements = lopt.transform(node)\n",
      "  File \"/Users/irio/anaconda2/lib/python3.4/site-packages/theano/tensor/opt.py\", line 5827, in constant_folding\n",
      "    required = thunk()\n",
      "  File \"/Users/irio/anaconda2/lib/python3.4/site-packages/theano/gof/op.py\", line 883, in rval\n",
      "    fill_storage()\n",
      "  File \"/Users/irio/anaconda2/lib/python3.4/site-packages/theano/gof/cc.py\", line 1707, in __call__\n",
      "    reraise(exc_type, exc_value, exc_trace)\n",
      "  File \"/Users/irio/anaconda2/lib/python3.4/site-packages/six-1.10.0-py3.4.egg/six.py\", line 686, in reraise\n",
      "    raise value\n",
      "MemoryError: Error allocating 4 bytes of device memory (unspecified launch failure).\n",
      "\n",
      "ERROR (theano.gof.opt): Optimization failure due to: constant_folding\n",
      "ERROR (theano.gof.opt): node: GpuFromHost(TensorConstant{(1, 1) of 0.5})\n",
      "ERROR (theano.gof.opt): TRACEBACK:\n",
      "ERROR (theano.gof.opt): Traceback (most recent call last):\n",
      "  File \"/Users/irio/anaconda2/lib/python3.4/site-packages/theano/gof/opt.py\", line 1772, in process_node\n",
      "    replacements = lopt.transform(node)\n",
      "  File \"/Users/irio/anaconda2/lib/python3.4/site-packages/theano/tensor/opt.py\", line 5827, in constant_folding\n",
      "    required = thunk()\n",
      "  File \"/Users/irio/anaconda2/lib/python3.4/site-packages/theano/gof/op.py\", line 883, in rval\n",
      "    fill_storage()\n",
      "  File \"/Users/irio/anaconda2/lib/python3.4/site-packages/theano/gof/cc.py\", line 1707, in __call__\n",
      "    reraise(exc_type, exc_value, exc_trace)\n",
      "  File \"/Users/irio/anaconda2/lib/python3.4/site-packages/six-1.10.0-py3.4.egg/six.py\", line 686, in reraise\n",
      "    raise value\n",
      "MemoryError: Error allocating 4 bytes of device memory (unspecified launch failure).\n",
      "\n",
      "ERROR (theano.gof.opt): Optimization failure due to: constant_folding\n",
      "ERROR (theano.gof.opt): node: GpuFromHost(TensorConstant{(1, 1) of 0.5})\n",
      "ERROR (theano.gof.opt): TRACEBACK:\n",
      "ERROR (theano.gof.opt): Traceback (most recent call last):\n",
      "  File \"/Users/irio/anaconda2/lib/python3.4/site-packages/theano/gof/opt.py\", line 1772, in process_node\n",
      "    replacements = lopt.transform(node)\n",
      "  File \"/Users/irio/anaconda2/lib/python3.4/site-packages/theano/tensor/opt.py\", line 5827, in constant_folding\n",
      "    required = thunk()\n",
      "  File \"/Users/irio/anaconda2/lib/python3.4/site-packages/theano/gof/op.py\", line 883, in rval\n",
      "    fill_storage()\n",
      "  File \"/Users/irio/anaconda2/lib/python3.4/site-packages/theano/gof/cc.py\", line 1707, in __call__\n",
      "    reraise(exc_type, exc_value, exc_trace)\n",
      "  File \"/Users/irio/anaconda2/lib/python3.4/site-packages/six-1.10.0-py3.4.egg/six.py\", line 686, in reraise\n",
      "    raise value\n",
      "MemoryError: Error allocating 4 bytes of device memory (unspecified launch failure).\n",
      "\n",
      "ERROR (theano.gof.opt): Optimization failure due to: constant_folding\n",
      "ERROR (theano.gof.opt): node: GpuFromHost(TensorConstant{(1, 1) of 0.5})\n",
      "ERROR (theano.gof.opt): TRACEBACK:\n",
      "ERROR (theano.gof.opt): Traceback (most recent call last):\n",
      "  File \"/Users/irio/anaconda2/lib/python3.4/site-packages/theano/gof/opt.py\", line 1772, in process_node\n",
      "    replacements = lopt.transform(node)\n",
      "  File \"/Users/irio/anaconda2/lib/python3.4/site-packages/theano/tensor/opt.py\", line 5827, in constant_folding\n",
      "    required = thunk()\n",
      "  File \"/Users/irio/anaconda2/lib/python3.4/site-packages/theano/gof/op.py\", line 883, in rval\n",
      "    fill_storage()\n",
      "  File \"/Users/irio/anaconda2/lib/python3.4/site-packages/theano/gof/cc.py\", line 1707, in __call__\n",
      "    reraise(exc_type, exc_value, exc_trace)\n",
      "  File \"/Users/irio/anaconda2/lib/python3.4/site-packages/six-1.10.0-py3.4.egg/six.py\", line 686, in reraise\n",
      "    raise value\n",
      "MemoryError: Error allocating 4 bytes of device memory (unspecified launch failure).\n",
      "\n",
      "ERROR (theano.gof.opt): Optimization failure due to: constant_folding\n",
      "ERROR (theano.gof.opt): node: GpuFromHost(TensorConstant{(1, 1) of 0.5})\n",
      "ERROR (theano.gof.opt): TRACEBACK:\n",
      "ERROR (theano.gof.opt): Traceback (most recent call last):\n",
      "  File \"/Users/irio/anaconda2/lib/python3.4/site-packages/theano/gof/opt.py\", line 1772, in process_node\n",
      "    replacements = lopt.transform(node)\n",
      "  File \"/Users/irio/anaconda2/lib/python3.4/site-packages/theano/tensor/opt.py\", line 5827, in constant_folding\n",
      "    required = thunk()\n",
      "  File \"/Users/irio/anaconda2/lib/python3.4/site-packages/theano/gof/op.py\", line 883, in rval\n",
      "    fill_storage()\n",
      "  File \"/Users/irio/anaconda2/lib/python3.4/site-packages/theano/gof/cc.py\", line 1707, in __call__\n",
      "    reraise(exc_type, exc_value, exc_trace)\n",
      "  File \"/Users/irio/anaconda2/lib/python3.4/site-packages/six-1.10.0-py3.4.egg/six.py\", line 686, in reraise\n",
      "    raise value\n",
      "MemoryError: Error allocating 4 bytes of device memory (unspecified launch failure).\n",
      "\n",
      "ERROR (theano.gof.opt): Optimization failure due to: constant_folding\n",
      "ERROR (theano.gof.opt): node: GpuFromHost(TensorConstant{(1, 1) of 0.5})\n",
      "ERROR (theano.gof.opt): TRACEBACK:\n",
      "ERROR (theano.gof.opt): Traceback (most recent call last):\n",
      "  File \"/Users/irio/anaconda2/lib/python3.4/site-packages/theano/gof/opt.py\", line 1772, in process_node\n",
      "    replacements = lopt.transform(node)\n",
      "  File \"/Users/irio/anaconda2/lib/python3.4/site-packages/theano/tensor/opt.py\", line 5827, in constant_folding\n",
      "    required = thunk()\n",
      "  File \"/Users/irio/anaconda2/lib/python3.4/site-packages/theano/gof/op.py\", line 883, in rval\n",
      "    fill_storage()\n",
      "  File \"/Users/irio/anaconda2/lib/python3.4/site-packages/theano/gof/cc.py\", line 1707, in __call__\n",
      "    reraise(exc_type, exc_value, exc_trace)\n",
      "  File \"/Users/irio/anaconda2/lib/python3.4/site-packages/six-1.10.0-py3.4.egg/six.py\", line 686, in reraise\n",
      "    raise value\n",
      "MemoryError: Error allocating 4 bytes of device memory (unspecified launch failure).\n",
      "\n",
      "ERROR (theano.gof.opt): Optimization failure due to: constant_folding\n",
      "ERROR (theano.gof.opt): node: GpuFromHost(TensorConstant{(1, 1) of 0.5})\n",
      "ERROR (theano.gof.opt): TRACEBACK:\n",
      "ERROR (theano.gof.opt): Traceback (most recent call last):\n",
      "  File \"/Users/irio/anaconda2/lib/python3.4/site-packages/theano/gof/opt.py\", line 1772, in process_node\n",
      "    replacements = lopt.transform(node)\n",
      "  File \"/Users/irio/anaconda2/lib/python3.4/site-packages/theano/tensor/opt.py\", line 5827, in constant_folding\n",
      "    required = thunk()\n",
      "  File \"/Users/irio/anaconda2/lib/python3.4/site-packages/theano/gof/op.py\", line 883, in rval\n",
      "    fill_storage()\n",
      "  File \"/Users/irio/anaconda2/lib/python3.4/site-packages/theano/gof/cc.py\", line 1707, in __call__\n",
      "    reraise(exc_type, exc_value, exc_trace)\n",
      "  File \"/Users/irio/anaconda2/lib/python3.4/site-packages/six-1.10.0-py3.4.egg/six.py\", line 686, in reraise\n",
      "    raise value\n",
      "MemoryError: Error allocating 4 bytes of device memory (unspecified launch failure).\n",
      "\n",
      "ERROR (theano.gof.opt): Optimization failure due to: constant_folding\n",
      "ERROR (theano.gof.opt): node: GpuFromHost(TensorConstant{(1, 1) of 0.5})\n",
      "ERROR (theano.gof.opt): TRACEBACK:\n",
      "ERROR (theano.gof.opt): Traceback (most recent call last):\n",
      "  File \"/Users/irio/anaconda2/lib/python3.4/site-packages/theano/gof/opt.py\", line 1772, in process_node\n",
      "    replacements = lopt.transform(node)\n",
      "  File \"/Users/irio/anaconda2/lib/python3.4/site-packages/theano/tensor/opt.py\", line 5827, in constant_folding\n",
      "    required = thunk()\n",
      "  File \"/Users/irio/anaconda2/lib/python3.4/site-packages/theano/gof/op.py\", line 883, in rval\n",
      "    fill_storage()\n",
      "  File \"/Users/irio/anaconda2/lib/python3.4/site-packages/theano/gof/cc.py\", line 1707, in __call__\n",
      "    reraise(exc_type, exc_value, exc_trace)\n",
      "  File \"/Users/irio/anaconda2/lib/python3.4/site-packages/six-1.10.0-py3.4.egg/six.py\", line 686, in reraise\n",
      "    raise value\n",
      "MemoryError: Error allocating 4 bytes of device memory (unspecified launch failure).\n",
      "\n",
      "ERROR (theano.gof.opt): Optimization failure due to: constant_folding\n",
      "ERROR (theano.gof.opt): node: GpuFromHost(TensorConstant{(1, 1) of 0.5})\n",
      "ERROR (theano.gof.opt): TRACEBACK:\n",
      "ERROR (theano.gof.opt): Traceback (most recent call last):\n",
      "  File \"/Users/irio/anaconda2/lib/python3.4/site-packages/theano/gof/opt.py\", line 1772, in process_node\n",
      "    replacements = lopt.transform(node)\n",
      "  File \"/Users/irio/anaconda2/lib/python3.4/site-packages/theano/tensor/opt.py\", line 5827, in constant_folding\n",
      "    required = thunk()\n",
      "  File \"/Users/irio/anaconda2/lib/python3.4/site-packages/theano/gof/op.py\", line 883, in rval\n",
      "    fill_storage()\n",
      "  File \"/Users/irio/anaconda2/lib/python3.4/site-packages/theano/gof/cc.py\", line 1707, in __call__\n",
      "    reraise(exc_type, exc_value, exc_trace)\n",
      "  File \"/Users/irio/anaconda2/lib/python3.4/site-packages/six-1.10.0-py3.4.egg/six.py\", line 686, in reraise\n",
      "    raise value\n",
      "MemoryError: Error allocating 4 bytes of device memory (unspecified launch failure).\n",
      "\n"
     ]
    },
    {
     "ename": "RuntimeError",
     "evalue": "error (unspecified launch failure)copying data to host",
     "output_type": "error",
     "traceback": [
      "\u001b[0;31m---------------------------------------------------------------------------\u001b[0m",
      "\u001b[0;31mRuntimeError\u001b[0m                              Traceback (most recent call last)",
      "\u001b[0;32m<ipython-input-149-45ad187dda1d>\u001b[0m in \u001b[0;36m<module>\u001b[0;34m()\u001b[0m\n\u001b[1;32m     21\u001b[0m )\n\u001b[1;32m     22\u001b[0m \u001b[0;34m\u001b[0m\u001b[0m\n\u001b[0;32m---> 23\u001b[0;31m \u001b[0mnet1\u001b[0m\u001b[0;34m.\u001b[0m\u001b[0mfit\u001b[0m\u001b[0;34m(\u001b[0m\u001b[0mX\u001b[0m\u001b[0;34m,\u001b[0m \u001b[0my\u001b[0m\u001b[0;34m)\u001b[0m\u001b[0;34m\u001b[0m\u001b[0m\n\u001b[0m",
      "\u001b[0;32m/Users/irio/anaconda2/lib/python3.4/site-packages/nolearn/lasagne/base.py\u001b[0m in \u001b[0;36mfit\u001b[0;34m(self, X, y, epochs)\u001b[0m\n\u001b[1;32m    528\u001b[0m \u001b[0;34m\u001b[0m\u001b[0m\n\u001b[1;32m    529\u001b[0m         \u001b[0;32mtry\u001b[0m\u001b[0;34m:\u001b[0m\u001b[0;34m\u001b[0m\u001b[0m\n\u001b[0;32m--> 530\u001b[0;31m             \u001b[0mself\u001b[0m\u001b[0;34m.\u001b[0m\u001b[0mtrain_loop\u001b[0m\u001b[0;34m(\u001b[0m\u001b[0mX\u001b[0m\u001b[0;34m,\u001b[0m \u001b[0my\u001b[0m\u001b[0;34m,\u001b[0m \u001b[0mepochs\u001b[0m\u001b[0;34m=\u001b[0m\u001b[0mepochs\u001b[0m\u001b[0;34m)\u001b[0m\u001b[0;34m\u001b[0m\u001b[0m\n\u001b[0m\u001b[1;32m    531\u001b[0m         \u001b[0;32mexcept\u001b[0m \u001b[0mKeyboardInterrupt\u001b[0m\u001b[0;34m:\u001b[0m\u001b[0;34m\u001b[0m\u001b[0m\n\u001b[1;32m    532\u001b[0m             \u001b[0;32mpass\u001b[0m\u001b[0;34m\u001b[0m\u001b[0m\n",
      "\u001b[0;32m/Users/irio/anaconda2/lib/python3.4/site-packages/nolearn/lasagne/base.py\u001b[0m in \u001b[0;36mtrain_loop\u001b[0;34m(self, X, y, epochs)\u001b[0m\n\u001b[1;32m    566\u001b[0m             )\n\u001b[1;32m    567\u001b[0m         \u001b[0;32mfor\u001b[0m \u001b[0mfunc\u001b[0m \u001b[0;32min\u001b[0m \u001b[0mon_training_started\u001b[0m\u001b[0;34m:\u001b[0m\u001b[0;34m\u001b[0m\u001b[0m\n\u001b[0;32m--> 568\u001b[0;31m             \u001b[0mfunc\u001b[0m\u001b[0;34m(\u001b[0m\u001b[0mself\u001b[0m\u001b[0;34m,\u001b[0m \u001b[0mself\u001b[0m\u001b[0;34m.\u001b[0m\u001b[0mtrain_history_\u001b[0m\u001b[0;34m)\u001b[0m\u001b[0;34m\u001b[0m\u001b[0m\n\u001b[0m\u001b[1;32m    569\u001b[0m \u001b[0;34m\u001b[0m\u001b[0m\n\u001b[1;32m    570\u001b[0m         \u001b[0mnum_epochs_past\u001b[0m \u001b[0;34m=\u001b[0m \u001b[0mlen\u001b[0m\u001b[0;34m(\u001b[0m\u001b[0mself\u001b[0m\u001b[0;34m.\u001b[0m\u001b[0mtrain_history_\u001b[0m\u001b[0;34m)\u001b[0m\u001b[0;34m\u001b[0m\u001b[0m\n",
      "\u001b[0;32m/Users/irio/anaconda2/lib/python3.4/site-packages/nolearn/lasagne/handlers.py\u001b[0m in \u001b[0;36m__call__\u001b[0;34m(self, nn, train_history)\u001b[0m\n\u001b[1;32m    145\u001b[0m             \u001b[0;32mreturn\u001b[0m\u001b[0;34m\u001b[0m\u001b[0m\n\u001b[1;32m    146\u001b[0m \u001b[0;34m\u001b[0m\u001b[0m\n\u001b[0;32m--> 147\u001b[0;31m         \u001b[0mmessage\u001b[0m \u001b[0;34m=\u001b[0m \u001b[0mself\u001b[0m\u001b[0;34m.\u001b[0m\u001b[0m_get_greeting\u001b[0m\u001b[0;34m(\u001b[0m\u001b[0mnn\u001b[0m\u001b[0;34m)\u001b[0m\u001b[0;34m\u001b[0m\u001b[0m\n\u001b[0m\u001b[1;32m    148\u001b[0m         \u001b[0mprint\u001b[0m\u001b[0;34m(\u001b[0m\u001b[0mmessage\u001b[0m\u001b[0;34m)\u001b[0m\u001b[0;34m\u001b[0m\u001b[0m\n\u001b[1;32m    149\u001b[0m         \u001b[0mprint\u001b[0m\u001b[0;34m(\u001b[0m\u001b[0;34m\"## Layer information\"\u001b[0m\u001b[0;34m)\u001b[0m\u001b[0;34m\u001b[0m\u001b[0m\n",
      "\u001b[0;32m/Users/irio/anaconda2/lib/python3.4/site-packages/nolearn/lasagne/handlers.py\u001b[0m in \u001b[0;36m_get_greeting\u001b[0;34m(nn)\u001b[0m\n\u001b[1;32m    165\u001b[0m     \u001b[0;32mdef\u001b[0m \u001b[0m_get_greeting\u001b[0m\u001b[0;34m(\u001b[0m\u001b[0mnn\u001b[0m\u001b[0;34m)\u001b[0m\u001b[0;34m:\u001b[0m\u001b[0;34m\u001b[0m\u001b[0m\n\u001b[1;32m    166\u001b[0m         shapes = [param.get_value().shape for param in\n\u001b[0;32m--> 167\u001b[0;31m                   nn.get_all_params(trainable=True) if param]\n\u001b[0m\u001b[1;32m    168\u001b[0m         nparams = reduce(operator.add, [reduce(operator.mul, shape) for\n\u001b[1;32m    169\u001b[0m                                         shape in shapes])\n",
      "\u001b[0;32m/Users/irio/anaconda2/lib/python3.4/site-packages/nolearn/lasagne/handlers.py\u001b[0m in \u001b[0;36m<listcomp>\u001b[0;34m(.0)\u001b[0m\n\u001b[1;32m    165\u001b[0m     \u001b[0;32mdef\u001b[0m \u001b[0m_get_greeting\u001b[0m\u001b[0;34m(\u001b[0m\u001b[0mnn\u001b[0m\u001b[0;34m)\u001b[0m\u001b[0;34m:\u001b[0m\u001b[0;34m\u001b[0m\u001b[0m\n\u001b[1;32m    166\u001b[0m         shapes = [param.get_value().shape for param in\n\u001b[0;32m--> 167\u001b[0;31m                   nn.get_all_params(trainable=True) if param]\n\u001b[0m\u001b[1;32m    168\u001b[0m         nparams = reduce(operator.add, [reduce(operator.mul, shape) for\n\u001b[1;32m    169\u001b[0m                                         shape in shapes])\n",
      "\u001b[0;32m/Users/irio/anaconda2/lib/python3.4/site-packages/theano/sandbox/cuda/var.py\u001b[0m in \u001b[0;36mget_value\u001b[0;34m(self, borrow, return_internal_type)\u001b[0m\n\u001b[1;32m    104\u001b[0m                 \u001b[0;32mreturn\u001b[0m \u001b[0mcopy\u001b[0m\u001b[0;34m.\u001b[0m\u001b[0mdeepcopy\u001b[0m\u001b[0;34m(\u001b[0m\u001b[0mself\u001b[0m\u001b[0;34m.\u001b[0m\u001b[0mcontainer\u001b[0m\u001b[0;34m.\u001b[0m\u001b[0mvalue\u001b[0m\u001b[0;34m)\u001b[0m\u001b[0;34m\u001b[0m\u001b[0m\n\u001b[1;32m    105\u001b[0m         \u001b[0;32melse\u001b[0m\u001b[0;34m:\u001b[0m  \u001b[0;31m# return an ndarray\u001b[0m\u001b[0;34m\u001b[0m\u001b[0m\n\u001b[0;32m--> 106\u001b[0;31m             \u001b[0;32mreturn\u001b[0m \u001b[0mnumpy\u001b[0m\u001b[0;34m.\u001b[0m\u001b[0masarray\u001b[0m\u001b[0;34m(\u001b[0m\u001b[0mself\u001b[0m\u001b[0;34m.\u001b[0m\u001b[0mcontainer\u001b[0m\u001b[0;34m.\u001b[0m\u001b[0mvalue\u001b[0m\u001b[0;34m)\u001b[0m\u001b[0;34m\u001b[0m\u001b[0m\n\u001b[0m\u001b[1;32m    107\u001b[0m \u001b[0;34m\u001b[0m\u001b[0m\n\u001b[1;32m    108\u001b[0m     \u001b[0;32mdef\u001b[0m \u001b[0mset_value\u001b[0m\u001b[0;34m(\u001b[0m\u001b[0mself\u001b[0m\u001b[0;34m,\u001b[0m \u001b[0mvalue\u001b[0m\u001b[0;34m,\u001b[0m \u001b[0mborrow\u001b[0m\u001b[0;34m=\u001b[0m\u001b[0;32mFalse\u001b[0m\u001b[0;34m)\u001b[0m\u001b[0;34m:\u001b[0m\u001b[0;34m\u001b[0m\u001b[0m\n",
      "\u001b[0;32m/Users/irio/anaconda2/lib/python3.4/site-packages/numpy/core/numeric.py\u001b[0m in \u001b[0;36masarray\u001b[0;34m(a, dtype, order)\u001b[0m\n\u001b[1;32m    472\u001b[0m \u001b[0;34m\u001b[0m\u001b[0m\n\u001b[1;32m    473\u001b[0m     \"\"\"\n\u001b[0;32m--> 474\u001b[0;31m     \u001b[0;32mreturn\u001b[0m \u001b[0marray\u001b[0m\u001b[0;34m(\u001b[0m\u001b[0ma\u001b[0m\u001b[0;34m,\u001b[0m \u001b[0mdtype\u001b[0m\u001b[0;34m,\u001b[0m \u001b[0mcopy\u001b[0m\u001b[0;34m=\u001b[0m\u001b[0;32mFalse\u001b[0m\u001b[0;34m,\u001b[0m \u001b[0morder\u001b[0m\u001b[0;34m=\u001b[0m\u001b[0morder\u001b[0m\u001b[0;34m)\u001b[0m\u001b[0;34m\u001b[0m\u001b[0m\n\u001b[0m\u001b[1;32m    475\u001b[0m \u001b[0;34m\u001b[0m\u001b[0m\n\u001b[1;32m    476\u001b[0m \u001b[0;32mdef\u001b[0m \u001b[0masanyarray\u001b[0m\u001b[0;34m(\u001b[0m\u001b[0ma\u001b[0m\u001b[0;34m,\u001b[0m \u001b[0mdtype\u001b[0m\u001b[0;34m=\u001b[0m\u001b[0;32mNone\u001b[0m\u001b[0;34m,\u001b[0m \u001b[0morder\u001b[0m\u001b[0;34m=\u001b[0m\u001b[0;32mNone\u001b[0m\u001b[0;34m)\u001b[0m\u001b[0;34m:\u001b[0m\u001b[0;34m\u001b[0m\u001b[0m\n",
      "\u001b[0;31mRuntimeError\u001b[0m: error (unspecified launch failure)copying data to host"
     ]
    }
   ],
   "source": [
    "net1 = NeuralNet(\n",
    "    layers=[  # three layers: one hidden layer\n",
    "        ('input', layers.InputLayer),\n",
    "        ('hidden', layers.DenseLayer),\n",
    "        ('output', layers.DenseLayer),\n",
    "        ],\n",
    "    # layer parameters:\n",
    "    input_shape=(None, IMAGE_ARRAY_SIZE),  # 64x64 input pixels per batch\n",
    "    hidden_num_units=100,  # number of units in hidden layer\n",
    "    output_nonlinearity=None,  # output layer uses identity function\n",
    "    output_num_units=30,  # 30 target values\n",
    "\n",
    "    # optimization method:\n",
    "    update=nesterov_momentum,\n",
    "    update_learning_rate=0.01,\n",
    "    update_momentum=0.9,\n",
    "\n",
    "#     regression=True,  # flag to indicate we're dealing with regression problem\n",
    "    max_epochs=400,  # we want to train this many epochs\n",
    "    verbose=1,\n",
    ")\n",
    "\n",
    "net1.fit(X, y)"
   ]
  },
  {
   "cell_type": "code",
   "execution_count": null,
   "metadata": {
    "collapsed": false
   },
   "outputs": [],
   "source": [
    "from lasagne.nonlinearities import softmax\n",
    "from lasagne.updates import adam\n",
    "from nolearn.lasagne import TrainSplit\n",
    "\n",
    "layers0 = [\n",
    "    # layer dealing with the input data\n",
    "    (layers.InputLayer, {'shape': (1, IMAGE_ARRAY_SIZE)}),\n",
    "\n",
    "    # first stage of our convolutional layers\n",
    "    (layers.Conv2DLayer, {'num_filters': 96, 'filter_size': 5}),\n",
    "    (layers.Conv2DLayer, {'num_filters': 96, 'filter_size': 3}),\n",
    "    (layers.Conv2DLayer, {'num_filters': 96, 'filter_size': 3}),\n",
    "    (layers.Conv2DLayer, {'num_filters': 96, 'filter_size': 3}),\n",
    "    (layers.Conv2DLayer, {'num_filters': 96, 'filter_size': 3}),\n",
    "    (layers.MaxPool2DLayer, {'pool_size': 2}),\n",
    "\n",
    "    # second stage of our convolutional layers\n",
    "    (layers.Conv2DLayer, {'num_filters': 128, 'filter_size': 3}),\n",
    "    (layers.Conv2DLayer, {'num_filters': 128, 'filter_size': 3}),\n",
    "    (layers.Conv2DLayer, {'num_filters': 128, 'filter_size': 3}),\n",
    "    (layers.MaxPool2DLayer, {'pool_size': 2}),\n",
    "\n",
    "    # two dense layers with dropout\n",
    "    (layers.DenseLayer, {'num_units': 64}),\n",
    "    (layers.DropoutLayer, {}),\n",
    "    (layers.DenseLayer, {'num_units': 64}),\n",
    "\n",
    "    # the output layer\n",
    "    (layers.DenseLayer, {'num_units': 10, 'nonlinearity': softmax}),\n",
    "]\n",
    "\n",
    "net0 = NeuralNet(\n",
    "    layers=layers0,\n",
    "    max_epochs=10,\n",
    "\n",
    "    update=adam,\n",
    "    update_learning_rate=0.0002,\n",
    "\n",
    "    objective_l2=0.0025,\n",
    "\n",
    "    train_split=TrainSplit(eval_size=0.25),\n",
    "    verbose=1,\n",
    ")\n",
    "\n",
    "net0.fit(X, y)"
   ]
  },
  {
   "cell_type": "code",
   "execution_count": 144,
   "metadata": {
    "collapsed": false
   },
   "outputs": [
    {
     "name": "stdout",
     "output_type": "stream",
     "text": [
      "(450, 600)\n"
     ]
    },
    {
     "ename": "KeyboardInterrupt",
     "evalue": "",
     "output_type": "error",
     "traceback": [
      "\u001b[0;31m---------------------------------------------------------------------------\u001b[0m",
      "\u001b[0;31mKeyboardInterrupt\u001b[0m                         Traceback (most recent call last)",
      "\u001b[0;32m<ipython-input-144-2984e6063af9>\u001b[0m in \u001b[0;36m<module>\u001b[0;34m()\u001b[0m\n\u001b[1;32m     26\u001b[0m \u001b[0mall_files\u001b[0m \u001b[0;34m=\u001b[0m \u001b[0mos\u001b[0m\u001b[0;34m.\u001b[0m\u001b[0mlistdir\u001b[0m\u001b[0;34m(\u001b[0m\u001b[0;34m'non-psed'\u001b[0m\u001b[0;34m)\u001b[0m\u001b[0;34m\u001b[0m\u001b[0m\n\u001b[1;32m     27\u001b[0m image_shapes = [imread('non-psed/%s' % file, as_grey=True).shape\n\u001b[0;32m---> 28\u001b[0;31m                 for file in all_files if file.endswith('.jpg')]\n\u001b[0m\u001b[1;32m     29\u001b[0m \u001b[0;34m\u001b[0m\u001b[0m\n\u001b[1;32m     30\u001b[0m \u001b[0;34m\u001b[0m\u001b[0m\n",
      "\u001b[0;32m<ipython-input-144-2984e6063af9>\u001b[0m in \u001b[0;36m<listcomp>\u001b[0;34m(.0)\u001b[0m\n\u001b[1;32m     26\u001b[0m \u001b[0mall_files\u001b[0m \u001b[0;34m=\u001b[0m \u001b[0mos\u001b[0m\u001b[0;34m.\u001b[0m\u001b[0mlistdir\u001b[0m\u001b[0;34m(\u001b[0m\u001b[0;34m'non-psed'\u001b[0m\u001b[0;34m)\u001b[0m\u001b[0;34m\u001b[0m\u001b[0m\n\u001b[1;32m     27\u001b[0m image_shapes = [imread('non-psed/%s' % file, as_grey=True).shape\n\u001b[0;32m---> 28\u001b[0;31m                 for file in all_files if file.endswith('.jpg')]\n\u001b[0m\u001b[1;32m     29\u001b[0m \u001b[0;34m\u001b[0m\u001b[0m\n\u001b[1;32m     30\u001b[0m \u001b[0;34m\u001b[0m\u001b[0m\n",
      "\u001b[0;32m/Users/irio/anaconda2/lib/python3.4/site-packages/imread/imread.py\u001b[0m in \u001b[0;36mimread\u001b[0;34m(filename, as_grey, formatstr, return_metadata)\u001b[0m\n\u001b[1;32m     66\u001b[0m     \u001b[0mflags\u001b[0m \u001b[0;34m=\u001b[0m \u001b[0;34m(\u001b[0m\u001b[0;34m'm'\u001b[0m \u001b[0;32mif\u001b[0m \u001b[0mreturn_metadata\u001b[0m \u001b[0;32melse\u001b[0m \u001b[0;34m''\u001b[0m\u001b[0;34m)\u001b[0m\u001b[0;34m\u001b[0m\u001b[0m\n\u001b[1;32m     67\u001b[0m     \u001b[0mimdata\u001b[0m\u001b[0;34m,\u001b[0m\u001b[0mmeta\u001b[0m \u001b[0;34m=\u001b[0m \u001b[0mreader\u001b[0m\u001b[0;34m(\u001b[0m\u001b[0mfilename\u001b[0m\u001b[0;34m,\u001b[0m \u001b[0mformatstr\u001b[0m\u001b[0;34m,\u001b[0m \u001b[0mflags\u001b[0m\u001b[0;34m)\u001b[0m\u001b[0;34m\u001b[0m\u001b[0m\n\u001b[0;32m---> 68\u001b[0;31m     \u001b[0mimdata\u001b[0m \u001b[0;34m=\u001b[0m \u001b[0m_as_grey\u001b[0m\u001b[0;34m(\u001b[0m\u001b[0mimdata\u001b[0m\u001b[0;34m,\u001b[0m \u001b[0mas_grey\u001b[0m\u001b[0;34m)\u001b[0m\u001b[0;34m\u001b[0m\u001b[0m\n\u001b[0m\u001b[1;32m     69\u001b[0m     \u001b[0;32mif\u001b[0m \u001b[0mreturn_metadata\u001b[0m\u001b[0;34m:\u001b[0m\u001b[0;34m\u001b[0m\u001b[0m\n\u001b[1;32m     70\u001b[0m         \u001b[0;32mreturn\u001b[0m \u001b[0mimdata\u001b[0m\u001b[0;34m,\u001b[0m \u001b[0mmeta\u001b[0m\u001b[0;34m\u001b[0m\u001b[0m\n",
      "\u001b[0;32m/Users/irio/anaconda2/lib/python3.4/site-packages/imread/imread.py\u001b[0m in \u001b[0;36m_as_grey\u001b[0;34m(im, as_grey)\u001b[0m\n\u001b[1;32m     26\u001b[0m     \u001b[0;31m# these are the values that wikipedia says are typical\u001b[0m\u001b[0;34m\u001b[0m\u001b[0;34m\u001b[0m\u001b[0m\n\u001b[1;32m     27\u001b[0m     \u001b[0mtransform\u001b[0m \u001b[0;34m=\u001b[0m \u001b[0mnp\u001b[0m\u001b[0;34m.\u001b[0m\u001b[0marray\u001b[0m\u001b[0;34m(\u001b[0m\u001b[0;34m[\u001b[0m \u001b[0;36m0.30\u001b[0m\u001b[0;34m,\u001b[0m  \u001b[0;36m0.59\u001b[0m\u001b[0;34m,\u001b[0m  \u001b[0;36m0.11\u001b[0m\u001b[0;34m]\u001b[0m\u001b[0;34m)\u001b[0m\u001b[0;34m\u001b[0m\u001b[0m\n\u001b[0;32m---> 28\u001b[0;31m     \u001b[0;32mreturn\u001b[0m \u001b[0mnp\u001b[0m\u001b[0;34m.\u001b[0m\u001b[0mdot\u001b[0m\u001b[0;34m(\u001b[0m\u001b[0mim\u001b[0m\u001b[0;34m,\u001b[0m \u001b[0mtransform\u001b[0m\u001b[0;34m)\u001b[0m\u001b[0;34m\u001b[0m\u001b[0m\n\u001b[0m\u001b[1;32m     29\u001b[0m \u001b[0;34m\u001b[0m\u001b[0m\n\u001b[1;32m     30\u001b[0m \u001b[0;32mdef\u001b[0m \u001b[0mimread\u001b[0m\u001b[0;34m(\u001b[0m\u001b[0mfilename\u001b[0m\u001b[0;34m,\u001b[0m \u001b[0mas_grey\u001b[0m\u001b[0;34m=\u001b[0m\u001b[0;32mFalse\u001b[0m\u001b[0;34m,\u001b[0m \u001b[0mformatstr\u001b[0m\u001b[0;34m=\u001b[0m\u001b[0;32mNone\u001b[0m\u001b[0;34m,\u001b[0m \u001b[0mreturn_metadata\u001b[0m\u001b[0;34m=\u001b[0m\u001b[0;32mFalse\u001b[0m\u001b[0;34m)\u001b[0m\u001b[0;34m:\u001b[0m\u001b[0;34m\u001b[0m\u001b[0m\n",
      "\u001b[0;31mKeyboardInterrupt\u001b[0m: "
     ]
    }
   ],
   "source": [
    "# print(optimized_GBM.score(X_test, y_test))\n",
    "\n",
    "# plot_roc_curve(optimized_GBM)\n",
    "\n",
    "# paths = [\n",
    "#     '/Users/irio/Desktop/funny_photoshopped_images_01.jpg',\n",
    "#     '/Users/irio/Desktop/plane-nikon-640x0.jpg',\n",
    "    \n",
    "#     '/Users/irio/Downloads/IMG_2515.JPG',\n",
    "#     '/Users/irio/Downloads/IMG_2525 (1).JPG',\n",
    "#     '/Users/irio/Dropbox/Images/Praça do Japão/PHOT0009.JPG.jpg',\n",
    "#     '/Users/irio/Desktop/WP_20140913_003.jpg',\n",
    "#     '/Users/irio/Desktop/WP_20140913_004.jpg',\n",
    "#     '/Users/irio/Downloads/Photos/IMG_2595.jpg',\n",
    "#     '/Users/irio/Downloads/Photos/IMG_2596.jpg',\n",
    "#     '/Users/irio/Downloads/Photos/IMG_2597.jpg',\n",
    "#     '/Users/irio/Downloads/Photos/IMG_2598.jpg',\n",
    "#     '/Users/irio/Downloads/Photos/IMG_2603.jpg',\n",
    "# ]\n",
    "\n",
    "# optimized_GBM.predict(list(map(read_image, paths)))\n",
    "\n",
    "file = imread('/Users/irio/Desktop/funny_photoshopped_images_01.jpg', as_grey=True)\n",
    "print(file.shape)\n",
    "\n",
    "all_files = os.listdir('../data/non-psed')\n",
    "image_shapes = [imread('../data/non-psed/%s' % file, as_grey=True).shape\n",
    "                for file in all_files if file.endswith('.jpg')]\n",
    "\n",
    "\n",
    "# file = imread('non-psed/r0a2e85f0t.jpg', as_grey=True)\n",
    "# print(file.shape)\n",
    "# file = imread('non-psed/r0a2ff882t.jpg', as_grey=True)\n",
    "# print(file.shape)"
   ]
  },
  {
   "cell_type": "code",
   "execution_count": null,
   "metadata": {
    "collapsed": true
   },
   "outputs": [],
   "source": []
  }
 ],
 "metadata": {
  "kernelspec": {
   "display_name": "Python 3",
   "language": "python3",
   "name": "python3"
  },
  "language_info": {
   "codemirror_mode": {
    "name": "ipython",
    "version": 3
   },
   "file_extension": ".py",
   "mimetype": "text/x-python",
   "name": "python",
   "nbconvert_exporter": "python",
   "pygments_lexer": "ipython3",
   "version": "3.5.1"
  },
  "widgets": {
   "state": {},
   "version": "1.1.2"
  }
 },
 "nbformat": 4,
 "nbformat_minor": 0
}
